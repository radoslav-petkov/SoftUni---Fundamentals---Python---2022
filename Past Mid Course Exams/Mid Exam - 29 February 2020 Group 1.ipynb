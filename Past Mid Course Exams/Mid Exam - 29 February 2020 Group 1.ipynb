{
 "cells": [
  {
   "cell_type": "markdown",
   "metadata": {},
   "source": [
    "# Mid Exam - 29 February 2020 Group 1"
   ]
  },
  {
   "cell_type": "markdown",
   "metadata": {},
   "source": [
    "## Problem 1. Bonus Scoring System"
   ]
  },
  {
   "cell_type": "markdown",
   "metadata": {},
   "source": [
    "Create a program that calculates bonus points for each student, for a certain course. On the first line, you are going to receive the count of the students for this course. On the second line, you will receive the count of the lectures in the course. Every course has an additional bonus. You are going to receive it on the third line. On the next lines, you will be receiving the count of attendances for each student. \n",
    "<br>\n",
    "The bonus is calculated with the following formula:\n",
    "<br>\n",
    "<b>{total bonus} = {student attendances} / {course lectures} * (5 + {additional bonus})</b>\n",
    "<br>\n",
    "Find the student with the maximum bonus and print him/her, along with his attendances in the following format:\n",
    "<br>\n",
    "<b>\"Max Bonus: {maxBonusPoints}.\"</b>\n",
    "<br>    \n",
    "<b>\"The student has attended {studentAttendances} lectures.\"</b>\n",
    "<br>\n",
    "Round the bonus points at the end to the nearest bigger number."
   ]
  },
  {
   "cell_type": "markdown",
   "metadata": {},
   "source": [
    "### Input / Constrains"
   ]
  },
  {
   "cell_type": "markdown",
   "metadata": {},
   "source": [
    "* On the first line you are going to receive the count of the students – an integer number in the range [0…50]\n",
    "* On the second line you are going to receive the count of the lectures – an integer number in the range [0...50].\n",
    "* On the third line you are going to receive the initial bonus – an integer number in the range [0….100].\n",
    "* On the next lines, you will be receiving the attendances of each student.\n",
    "* There will never be students with equal bonuses."
   ]
  },
  {
   "cell_type": "markdown",
   "metadata": {},
   "source": [
    "### Output"
   ]
  },
  {
   "cell_type": "markdown",
   "metadata": {},
   "source": [
    "Print the maximum bonus points along with the attendances of the given student, rounded to the nearest bigger number, scored by a student in this course in the format described above."
   ]
  },
  {
   "cell_type": "code",
   "execution_count": 1,
   "metadata": {},
   "outputs": [
    {
     "name": "stdout",
     "output_type": "stream",
     "text": [
      "5\n",
      "25\n",
      "30\n",
      "12\n",
      "19\n",
      "24\n",
      "16\n",
      "20\n",
      "Max Bonus: 34.\n",
      "The student has attended 24 lectures.\n"
     ]
    }
   ],
   "source": [
    "import math\n",
    "\n",
    "students = int(input())\n",
    "lectures = int(input())\n",
    "bonus = int(input())\n",
    "\n",
    "max_bonus = 0\n",
    "max_bonus_attendances = 0\n",
    "\n",
    "for student in range(students):\n",
    "    attendances = int(input())\n",
    "\n",
    "    total_bonus = attendances / lectures * (5 + bonus)\n",
    "\n",
    "    if total_bonus > max_bonus:\n",
    "        max_bonus = total_bonus\n",
    "        max_bonus_attendances = attendances\n",
    "\n",
    "print(f\"Max Bonus: {math.ceil(max_bonus)}.\")\n",
    "print(f\"The student has attended {max_bonus_attendances} lectures.\")"
   ]
  },
  {
   "cell_type": "markdown",
   "metadata": {},
   "source": [
    "## Problem 2. Mu Online"
   ]
  },
  {
   "cell_type": "markdown",
   "metadata": {},
   "source": [
    "You have initial health 100 and initial bitcoins 0. You will be given a string, representing the dungeons rooms. Each room is separated with '|' (vertical bar): \"room1|room2|room3…\"\n",
    "<br>\n",
    "Each room contains a command and a number, separated by space. The command can be:\n",
    "* \"potion\"\n",
    "    * You are healed with the number in the second part. But your health cannot exceed your initial health (100).\n",
    "    * First print: \"You healed for {amount} hp.\". \n",
    "    * After that, print your current health: \"Current health: {health} hp.\".\n",
    "* \"chest\"\n",
    "    * You've found some bitcoins, the number in the second part.\n",
    "    * Print: \"You found {amount} bitcoins.\"\n",
    "* In any other case you are facing a monster, you are going to fight. The second part of the room, contains the attack of the monster. You should remove the monster's attack from your health. \n",
    "    * If you are not dead (health <= 0) you've slain the monster, and you should print (\"You slayed {monster}.\")\n",
    "    * If you've died, print \"You died! Killed by {monster}.\" and your quest is over. Print the best room you`ve manage to reach: \"Best room: {room}\".\n",
    "<br>If you managed to go through all the rooms in the dungeon, print on the next three lines: \n",
    "<br><b>\"You've made it!\", \"Bitcoins: {bitcoins}\", \"Health: {health}\".</b>"
   ]
  },
  {
   "cell_type": "markdown",
   "metadata": {},
   "source": [
    "### Input / Constraints"
   ]
  },
  {
   "cell_type": "markdown",
   "metadata": {},
   "source": [
    "You receive a string, representing the dungeons rooms, separated with '|' (vertical bar): \"room1|room2|room3…\"."
   ]
  },
  {
   "cell_type": "markdown",
   "metadata": {},
   "source": [
    "### Output"
   ]
  },
  {
   "cell_type": "markdown",
   "metadata": {},
   "source": [
    "Print the corresponding messages, described above."
   ]
  },
  {
   "cell_type": "code",
   "execution_count": 2,
   "metadata": {},
   "outputs": [
    {
     "name": "stdout",
     "output_type": "stream",
     "text": [
      "cat 10|potion 30|orc 10|chest 10|snake 25|chest 110\n",
      "You slayed cat.\n",
      "You healed for 10 hp.\n",
      "Current health: 100 hp.\n",
      "You slayed orc.\n",
      "You found 10 bitcoins.\n",
      "You slayed snake.\n",
      "You found 110 bitcoins.\n",
      "You've made it!\n",
      "Bitcoins: 120\n",
      "Health: 65\n"
     ]
    }
   ],
   "source": [
    "dungeons_rooms = input().split(\"|\")\n",
    "dungeons_rooms = [el.split() for el in dungeons_rooms]\n",
    "\n",
    "room_counter = 0\n",
    "health = 100\n",
    "coins = 0\n",
    "\n",
    "\n",
    "def potion(health, num):\n",
    "    health += num\n",
    "    hp = num\n",
    "    if health > 100:\n",
    "        hp = num - (health - 100)\n",
    "        health = 100\n",
    "    print(f\"You healed for {hp} hp.\")\n",
    "    print(f\"Current health: {health} hp.\")\n",
    "    return health\n",
    "\n",
    "\n",
    "def chest(coins, num):\n",
    "    coins += num\n",
    "    print(f\"You found {number} bitcoins.\")\n",
    "    return coins\n",
    "\n",
    "\n",
    "def monster(health, num, com, room_c):\n",
    "    health -= num\n",
    "    if health > 0:\n",
    "        print(f\"You slayed {com}.\")\n",
    "        return health\n",
    "    else:\n",
    "        print(f\"You died! Killed by {com}.\")\n",
    "        print(f\"Best room: {room_c}\")\n",
    "        return False\n",
    "\n",
    "\n",
    "for room in dungeons_rooms:\n",
    "    room_counter += 1\n",
    "    command = room[0]\n",
    "    number = int(room[1])\n",
    "\n",
    "    if command == \"potion\":\n",
    "        health = potion(health, number)\n",
    "\n",
    "    elif command == \"chest\":\n",
    "        coins = chest(coins, number)\n",
    "\n",
    "    else:\n",
    "        health = monster(health, number, command, room_counter)\n",
    "        if not health:\n",
    "            break\n",
    "\n",
    "if health:\n",
    "    print(\"You've made it!\")\n",
    "    print(f\"Bitcoins: {coins}\")\n",
    "    print(f\"Health: {health}\")"
   ]
  },
  {
   "cell_type": "markdown",
   "metadata": {},
   "source": [
    "## Problem 3. Inventory"
   ]
  },
  {
   "cell_type": "markdown",
   "metadata": {},
   "source": [
    "### Input / Constraints"
   ]
  },
  {
   "cell_type": "markdown",
   "metadata": {},
   "source": [
    "You will receive a journal with some Collecting items, separated with ', ' (comma and space). After that, until receiving \"Craft!\" you will be receiving different commands. \n",
    "<br>Commands (split by \" - \"):\n",
    "* \"Collect - {item}\" – Receiving this command, you should add the given item in your inventory. If the item already exists, you should skip this line.\n",
    "* \"Drop - {item}\" – You should remove the item from your inventory, if it exists.\n",
    "* \"Combine Items - {oldItem}:{newItem}\" – You should check if the old item exists, if so, add the new item after the old one. Otherwise, ignore the command.\n",
    "* \"Renew – {item}\" – If the given item exists, you should change its position and put it last in your inventory."
   ]
  },
  {
   "cell_type": "markdown",
   "metadata": {},
   "source": [
    "### Output"
   ]
  },
  {
   "cell_type": "markdown",
   "metadata": {},
   "source": [
    "After receiving \"Craft!\" print the items in your inventory, separated by \", \" (comma and space)."
   ]
  },
  {
   "cell_type": "code",
   "execution_count": 3,
   "metadata": {},
   "outputs": [
    {
     "name": "stdout",
     "output_type": "stream",
     "text": [
      "Iron, Sword\n",
      "Drop - Bronze\n",
      "Combine Items - Sword:Bow\n",
      "Renew - Iron\n",
      "Craft!\n",
      "Sword, Bow, Iron\n"
     ]
    }
   ],
   "source": [
    "items = input().split(\", \")\n",
    "command = input().split(\" - \")\n",
    "\n",
    "while command[0] != \"Craft!\":\n",
    "\n",
    "    item = command[1]\n",
    "    action = command[0]\n",
    "\n",
    "    if action == \"Collect\":\n",
    "        if item not in items:\n",
    "            items.append(item)\n",
    "\n",
    "    elif action == \"Drop\":\n",
    "        if item in items:\n",
    "            items.remove(item)\n",
    "\n",
    "    elif action == \"Combine Items\":\n",
    "        item = item.split(\":\")\n",
    "        if item[0] in items:\n",
    "            insert_index = items.index(item[0]) + 1\n",
    "            items.insert(insert_index, item[1])\n",
    "\n",
    "    elif action == \"Renew\":\n",
    "        if item in items:\n",
    "            items.remove(item)\n",
    "            items.append(item)\n",
    "\n",
    "    command = input().split(\" - \")\n",
    "\n",
    "print(\", \".join(items))"
   ]
  }
 ],
 "metadata": {
  "kernelspec": {
   "display_name": "Python 3",
   "language": "python",
   "name": "python3"
  },
  "language_info": {
   "codemirror_mode": {
    "name": "ipython",
    "version": 3
   },
   "file_extension": ".py",
   "mimetype": "text/x-python",
   "name": "python",
   "nbconvert_exporter": "python",
   "pygments_lexer": "ipython3",
   "version": "3.8.3"
  }
 },
 "nbformat": 4,
 "nbformat_minor": 4
}
