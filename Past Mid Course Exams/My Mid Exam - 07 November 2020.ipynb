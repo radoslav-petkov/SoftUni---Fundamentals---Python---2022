{
 "cells": [
  {
   "cell_type": "markdown",
   "metadata": {},
   "source": [
    "# My Mid Exam - 07 November 2020"
   ]
  },
  {
   "cell_type": "markdown",
   "metadata": {},
   "source": [
    "## 01. Next Level"
   ]
  },
  {
   "cell_type": "markdown",
   "metadata": {},
   "source": [
    "Write a program, that helps a player figure how many battles he will need to play in a battle video game, in order to unlock the next tank in the line.\n",
    "<br><br>\n",
    "On the first line you will receive the amount of experience that is needed to unlock the tank. On the second line you will receive the count of battles. On the next lines, you will receive the experience the player can gain in every battle.\n",
    "<br><br>\n",
    "Calculate if he can unlock the tank. Keep in mind that he gets 15% more experience for every third battle and 10% less for every fifth battle and on every fifteenth gets 5% more experience. You also need to stop the program as soon as he collects the needed experience.\n",
    "<br><br>\n",
    "If he managed to gather the experience, print how many battles it took him in the following format:\n",
    "* \"Player successfully collected his needed experience for {battleCount} battles.\"\n",
    "<br><br>If he was not able to do it, print the following message:\n",
    "* \"Player was not able to collect the needed experience, {neededExperience} more needed.\"\n",
    "<br><br>Format the needed experience to the second decimal place."
   ]
  },
  {
   "cell_type": "markdown",
   "metadata": {},
   "source": [
    "### Input"
   ]
  },
  {
   "cell_type": "markdown",
   "metadata": {},
   "source": [
    "* On the first line you will receive the needed experience amount –  a real number in the range [0.0….400000.0]\n",
    "* On the second line you will receive the count of battles – an integer number in the range \n",
    "[0….500]\n",
    "* On the next lines you will receive the experience earned per battle – a real number in the range \n",
    "[0.0….5000.0]"
   ]
  },
  {
   "cell_type": "markdown",
   "metadata": {},
   "source": [
    "### Output"
   ]
  },
  {
   "cell_type": "markdown",
   "metadata": {},
   "source": [
    "* If he managed to gather the experience:\n",
    "    * \"Player successfully collected his needed experience for {battleCount} battles.\"\n",
    "* If he was not able to do it:\n",
    "    * \"Player was not able to collect the needed experience, {neededExperience} more needed.\"\n",
    "<br><br>NOTE: Format the needed experience to the second decimal place."
   ]
  },
  {
   "cell_type": "code",
   "execution_count": 1,
   "metadata": {},
   "outputs": [
    {
     "name": "stdout",
     "output_type": "stream",
     "text": [
      "500\n",
      "5\n",
      "50\n",
      "100\n",
      "200\n",
      "100\n",
      "30\n",
      "Player successfully collected his needed experience for 5 battles.\n"
     ]
    }
   ],
   "source": [
    "experience_needed = float(input())\n",
    "count_of_battles = int(input())\n",
    "\n",
    "experience = 0\n",
    "battle_counter = 0\n",
    "successfully = False\n",
    "\n",
    "for battle in range(1, count_of_battles + 1):\n",
    "    every_battle_exp = float(input())\n",
    "\n",
    "    if battle % 3 == 0:\n",
    "        every_battle_exp *= 1.15\n",
    "    if experience_needed <= experience:\n",
    "        successfully = True\n",
    "        break\n",
    "    if battle % 5 == 0:\n",
    "        every_battle_exp *= 0.9\n",
    "    if battle % 15 == 0:\n",
    "        every_battle_exp *= 1.05\n",
    "\n",
    "    experience += every_battle_exp\n",
    "    battle_counter += 1\n",
    "\n",
    "    if experience_needed <= experience:\n",
    "        successfully = True\n",
    "        break\n",
    "\n",
    "experience_needed -= experience\n",
    "\n",
    "if successfully:\n",
    "    print(f\"Player successfully collected his needed experience for {battle_counter} battles.\")\n",
    "else:\n",
    "    print(f\"Player was not able to collect the needed experience, {experience_needed:.2f} more needed.\")"
   ]
  },
  {
   "cell_type": "markdown",
   "metadata": {},
   "source": [
    "## 02. Commands"
   ]
  },
  {
   "cell_type": "markdown",
   "metadata": {},
   "source": [
    "You will be given a series of strings on a single line, separated by one whitespace. These represent the collection you’ll be working with.\n",
    "<br><br>\n",
    "On the next input lines, until you receive the command \"end\", you’ll receive a series of commands in one of the following formats:\n",
    "* reverse from [start] count [count] - this instructs you to reverse a portion of the array – just [count] elements starting at index [start];\n",
    "* sort from [start] count [count] - this instructs you to sort a portion of the array - [count] elements starting at index [start];\n",
    "* remove [count] - remove the first count elements\n",
    "<br><br>\n",
    "Note: commands will always be valid and in the range of the array\n",
    "<br><br>\n",
    "After you're done, print the resulting elements joined by \", \". The examples should help you understand the task better."
   ]
  },
  {
   "cell_type": "markdown",
   "metadata": {},
   "source": [
    "### Input"
   ]
  },
  {
   "cell_type": "markdown",
   "metadata": {},
   "source": [
    "* The input data should be read from the console\n",
    "* The first input line will hold a series of strings, separated by one whitespace\n",
    "* The next lines will hold commands in the described formats (exactly)\n",
    "* The input ends with the keyword \"end\"\n",
    "* The input data will always be valid and in the format described. There is no need to check it explicitly"
   ]
  },
  {
   "cell_type": "markdown",
   "metadata": {},
   "source": [
    "### Output"
   ]
  },
  {
   "cell_type": "markdown",
   "metadata": {},
   "source": [
    "* The output should be printed on the console. \n",
    "* After receiving the \"end\" command, print the resulting array on the console in the format specified above.b"
   ]
  },
  {
   "cell_type": "markdown",
   "metadata": {},
   "source": [
    "### Constraints"
   ]
  },
  {
   "cell_type": "markdown",
   "metadata": {},
   "source": [
    "* The count of strings in the collection will be in the range [1 … 50]\n",
    "* The number of commands will be in the range [1 … 20]\n",
    "* All commands will be in the described format\n",
    "* [start] and [count] will be integers in the range [-231 … 231 - 1]"
   ]
  },
  {
   "cell_type": "code",
   "execution_count": 1,
   "metadata": {},
   "outputs": [
    {
     "name": "stdout",
     "output_type": "stream",
     "text": [
      "1 2 5 8 7 3 10 6 4 9\n",
      "reverse from 2 count 4\n",
      "end\n",
      "1, 2, 3, 7, 8, 5, 10, 6, 4, 9\n"
     ]
    }
   ],
   "source": [
    "def reverse_sort(act, i1, i2):\n",
    "    first_index = i1\n",
    "    count = i2\n",
    "    second_index = first_index + count\n",
    "    if act == \"reverse\":\n",
    "        strings[first_index:second_index] = reversed(strings[first_index:second_index])\n",
    "        return strings\n",
    "    elif act == \"sort\":\n",
    "        strings[first_index:second_index] = sorted(strings[first_index:second_index])\n",
    "        return strings\n",
    "\n",
    "\n",
    "strings = input().split()\n",
    "\n",
    "while True:\n",
    "    command = input()\n",
    "    if command == \"end\":\n",
    "        break\n",
    "    command = command.split()\n",
    "\n",
    "    if command[0] == \"reverse\" or command[0] == \"sort\":\n",
    "        strings = reverse_sort(command[0], int(command[2]), int(command[4]))\n",
    "\n",
    "    elif command[0] == \"remove\":\n",
    "        strings = strings[int(command[1]):]\n",
    "\n",
    "print(\", \".join(strings))"
   ]
  },
  {
   "cell_type": "markdown",
   "metadata": {},
   "source": [
    "## 03. Deck of Cards"
   ]
  },
  {
   "cell_type": "markdown",
   "metadata": {},
   "source": [
    "You will receive a list of Toms already owned premium vehicles on a single line separated by \", \". On the next line you will receive a number n. On the next n lines, you will receive commands that could be:\n",
    "* Add, {CardName}: Check if he already owns the wanted Card. \n",
    "    * If he owns it, print on console:  \"Card is already bought\"\n",
    "    * If not, print on console:  \"Card successfully bought\" and add it to the Card list.\n",
    "* Remove, {CardName}: Check if he owns the Card.\n",
    "    * If he owns it print on console:  \"Card successfully sold\" and remove it from the Card list.\n",
    "    * If not print on console: \"Card not found\"\n",
    "* Remove At, {index}: Check if the index is in the range of the list.\n",
    "    * If not print on console: \"Index out of range\" and continue.\n",
    "    * If it’s in range, remove at the given index and print on console: \"Card successfully sold\"\n",
    "* Insert, {index}, {CardName}: Check if the index is in range of the list and check if he already owns the Card.\n",
    "    * If not print on console: \"Index out of range\" and continue.\n",
    "    * If it's in range and he doesn't own the Card, then add the Card at the given index and print on console:\n",
    "        * \"Card successfully bought\"\n",
    "    * If the Card is in range and he owns it already than print on console:\n",
    "        * \"Card is already bought\"\n",
    "<br><br>\n",
    "After you go through all the commands you need to print the list on a single line separated by \", \"."
   ]
  },
  {
   "cell_type": "markdown",
   "metadata": {},
   "source": [
    "### Input"
   ]
  },
  {
   "cell_type": "markdown",
   "metadata": {},
   "source": [
    "* The first input line will contain the list of already owned Cards.\n",
    "* The second input line  will be  the number of commands – an integer number in range [0…50].\n",
    "* On the next input lines you will be receiving commands."
   ]
  },
  {
   "cell_type": "markdown",
   "metadata": {},
   "source": [
    "### Output"
   ]
  },
  {
   "cell_type": "markdown",
   "metadata": {},
   "source": [
    "* As output you must print a single line containing the elements of the list, joined by  \", \"."
   ]
  },
  {
   "cell_type": "code",
   "execution_count": 3,
   "metadata": {},
   "outputs": [
    {
     "name": "stdout",
     "output_type": "stream",
     "text": [
      "T-34-85 Rudy, SU-100Y, STG\n",
      "3\n",
      "Add, King Tiger(C)\n",
      "Card successfully bought\n",
      "Insert, 2, IS-2M\n",
      "Card successfully bought\n",
      "Remove, T-34-85 Rudy\n",
      "Card successfully sold\n",
      "SU-100Y, IS-2M, STG, King Tiger(C)\n"
     ]
    }
   ],
   "source": [
    "cards = input().split(\", \")\n",
    "commands = int(input())\n",
    "\n",
    "for command in range(commands):\n",
    "    received_command = input().split(\", \")\n",
    "    action = received_command[0]\n",
    "    element = received_command[1]\n",
    "\n",
    "    if action == \"Add\":\n",
    "        if element in cards:\n",
    "            print(\"Card is already bought\")\n",
    "        else:\n",
    "            print(\"Card successfully bought\")\n",
    "            cards.append(element)\n",
    "\n",
    "    elif action == \"Remove\":\n",
    "        if element in cards:\n",
    "            print(\"Card successfully sold\")\n",
    "            cards.remove(element)\n",
    "        else:\n",
    "            print(\"Card not found\")\n",
    "\n",
    "    elif action == \"Remove At\":\n",
    "        if int(element) not in range(len(cards)):\n",
    "            print(\"Index out of range\")\n",
    "        else:\n",
    "            cards.pop(int(element))\n",
    "            print(\"Card successfully sold\")\n",
    "\n",
    "    elif action == \"Insert\":\n",
    "        card_name = received_command[2]\n",
    "        if int(element) not in range(len(cards)):\n",
    "            print(\"Index out of range\")\n",
    "        else:\n",
    "            if card_name not in cards:\n",
    "                cards.insert(int(element), card_name)\n",
    "                print(\"Card successfully bought\")\n",
    "            else:\n",
    "                print(\"Card is already bought\")\n",
    "\n",
    "print(\", \".join(cards))"
   ]
  }
 ],
 "metadata": {
  "kernelspec": {
   "display_name": "Python 3",
   "language": "python",
   "name": "python3"
  },
  "language_info": {
   "codemirror_mode": {
    "name": "ipython",
    "version": 3
   },
   "file_extension": ".py",
   "mimetype": "text/x-python",
   "name": "python",
   "nbconvert_exporter": "python",
   "pygments_lexer": "ipython3",
   "version": "3.8.3"
  }
 },
 "nbformat": 4,
 "nbformat_minor": 4
}
