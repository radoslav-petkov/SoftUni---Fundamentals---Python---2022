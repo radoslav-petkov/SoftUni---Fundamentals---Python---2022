{
 "cells": [
  {
   "cell_type": "markdown",
   "metadata": {},
   "source": [
    "# Mid Exam - 5 July 2020"
   ]
  },
  {
   "cell_type": "markdown",
   "metadata": {},
   "source": [
    "## 01.\t SoftUni Reception"
   ]
  },
  {
   "cell_type": "markdown",
   "metadata": {},
   "source": [
    "Every day thousands of students pass by the reception at SoftUni with different questions to ask and the employees have to help everyone by providing all the information and to answer all of the questions. \n",
    "<br>\n",
    "<br>\n",
    "There are 3 employees working on the reception all day. Each of them can handle different number of students per hour. Your task is to calculate how much time it will take to answer all the questions of given number of students.\n",
    "<br>\n",
    "<br>\n",
    "First you will receive 3 lines with integers, representing count of students that each of the employee can help per hour. On the next line you will receive students count as a single integer. \n",
    "<br>\n",
    "<br>\n",
    "Every forth hour all of the employees have a break, so they don’t work for a hour. This is the only break for the employees, because they dont need rest, nor have a personal life. Calculate the time needed to answer all the student's questions and print it in the following format: \"Time needed: {time}h.\""
   ]
  },
  {
   "cell_type": "markdown",
   "metadata": {},
   "source": [
    "### Input / Constraints"
   ]
  },
  {
   "cell_type": "markdown",
   "metadata": {},
   "source": [
    "* On first three lines -  each employee efficiency -  integer in range [1 - 100]\n",
    "* On the fourth line - students count – integer in range [0 – 10000]\n",
    "* Input will always be valid and in the range specified"
   ]
  },
  {
   "cell_type": "markdown",
   "metadata": {},
   "source": [
    "### Output"
   ]
  },
  {
   "cell_type": "markdown",
   "metadata": {},
   "source": [
    "* Print a single line: \"Time needed: {time}h.\"\n",
    "* Allowed working time / memory: 100ms / 16MB"
   ]
  },
  {
   "cell_type": "code",
   "execution_count": 1,
   "metadata": {},
   "outputs": [
    {
     "name": "stdout",
     "output_type": "stream",
     "text": [
      "1\n",
      "2\n",
      "3\n",
      "45\n",
      "Time needed: 10h.\n"
     ]
    }
   ],
   "source": [
    "first_employee_can_help = int(input())\n",
    "second_employee_can_help = int(input())\n",
    "third_employee_can_help = int(input())\n",
    "students = int(input())\n",
    "\n",
    "all_employees_can_help = first_employee_can_help + second_employee_can_help + third_employee_can_help\n",
    "hours = 0\n",
    "\n",
    "while students > 0:\n",
    "    hours += 1\n",
    "    if hours % 4 == 0:\n",
    "        continue\n",
    "    students -= all_employees_can_help\n",
    "\n",
    "print(f\"Time needed: {hours}h.\")"
   ]
  },
  {
   "cell_type": "markdown",
   "metadata": {},
   "source": [
    "## 02. Array Modifier"
   ]
  },
  {
   "cell_type": "markdown",
   "metadata": {},
   "source": [
    "You are given an array with integers. Write a program to modify the elements after receive the commands “swap”, “multiply” or “decrease”.\n",
    "* “swap {index1} {index2}” take two elements and swap their places.\n",
    "* “multiply {index1} {index2}” take element at the 1st index and multiply it with element at 2nd index. Save the product at the 1st index.\n",
    "* “decrease” decreases all elements in the array with 1."
   ]
  },
  {
   "cell_type": "markdown",
   "metadata": {},
   "source": [
    "### Input"
   ]
  },
  {
   "cell_type": "markdown",
   "metadata": {},
   "source": [
    "On the first input line you will be given the initial array values separated by a single space.\n",
    "<br>\n",
    "<br>\n",
    "On the next lines you will receive commands until you receive the command “end”. The commands are as follow: \n",
    "* “swap {index1} {index2}”\n",
    "* “multiply {index1} {index2}”\n",
    "* “decrease”"
   ]
  },
  {
   "cell_type": "markdown",
   "metadata": {},
   "source": [
    "### Output"
   ]
  },
  {
   "cell_type": "markdown",
   "metadata": {},
   "source": [
    "The output should be printed on the console and consist element of the modified array – separated by “, “(comma and single space)."
   ]
  },
  {
   "cell_type": "markdown",
   "metadata": {},
   "source": [
    "### Constraints"
   ]
  },
  {
   "cell_type": "markdown",
   "metadata": {},
   "source": [
    "* Commands will be: “swap”, “multiply”, “decrease” and “end”\n",
    "* Elements of the array will be integer numbers in the range [-231...231]\n",
    "* Count of the array elements will be in the range [2...100]\n",
    "* Indexes will be always in the range of the array"
   ]
  },
  {
   "cell_type": "code",
   "execution_count": 2,
   "metadata": {},
   "outputs": [
    {
     "name": "stdout",
     "output_type": "stream",
     "text": [
      "23 -2 321 87 42 90 -123\n",
      "swap 1 3\n",
      "swap 3 6\n",
      "swap 1 0\n",
      "multiply 1 2\n",
      "multiply 2 1\n",
      "decrease\n",
      "end\n",
      "86, 7382, 2369942, -124, 41, 89, -3\n"
     ]
    }
   ],
   "source": [
    "values = list(map(int, input().split()))\n",
    "\n",
    "while True:\n",
    "    command = input().split()\n",
    "    action = command[0]\n",
    "    if action == \"swap\" or action == \"multiply\":\n",
    "        index1 = int(command[1])\n",
    "        index2 = int(command[2])\n",
    "\n",
    "    if action == \"end\":\n",
    "        break\n",
    "\n",
    "    elif action == \"swap\":\n",
    "        values[index1], values[index2] = values[index2], values[index1]\n",
    "\n",
    "    elif action == \"multiply\":\n",
    "        index = values[index1] * values[index2]\n",
    "        values.pop(index1)\n",
    "        values.insert(index1, index)\n",
    "\n",
    "    elif action == \"decrease\":\n",
    "        values = [values[el] - 1 for el in range(len(values))]\n",
    "\n",
    "values = [str(values[el]) for el in range(len(values))]\n",
    "\n",
    "print(\", \".join(values))"
   ]
  },
  {
   "cell_type": "markdown",
   "metadata": {},
   "source": [
    "## 03. Numbers"
   ]
  },
  {
   "cell_type": "markdown",
   "metadata": {},
   "source": [
    "Write a program to read a sequence of integers and find and print the top 5 numbers that are greater than the average value in the sequence, sorted in descending order."
   ]
  },
  {
   "cell_type": "markdown",
   "metadata": {},
   "source": [
    "### Input"
   ]
  },
  {
   "cell_type": "markdown",
   "metadata": {},
   "source": [
    "Read from the console a single line holding space separated number."
   ]
  },
  {
   "cell_type": "markdown",
   "metadata": {},
   "source": [
    "### Output"
   ]
  },
  {
   "cell_type": "markdown",
   "metadata": {},
   "source": [
    "Print the above described numbers on a single line, space separated. If less than 5 numbers hold the above mentioned property, print less than 5 numbers. Print “No” if no numbers hold the above property."
   ]
  },
  {
   "cell_type": "markdown",
   "metadata": {},
   "source": [
    "### Constraints"
   ]
  },
  {
   "cell_type": "markdown",
   "metadata": {},
   "source": [
    "All input numbers are integers in range [-1 000 000 … 1 000 000]. The count of numbers is in range [1…10 000]."
   ]
  },
  {
   "cell_type": "code",
   "execution_count": 3,
   "metadata": {},
   "outputs": [
    {
     "name": "stdout",
     "output_type": "stream",
     "text": [
      "5 2 3 4 -10 30 40 50 20 50 60 60 51\n",
      "60 60 51 50 50\n"
     ]
    }
   ],
   "source": [
    "integers = list(map(int, input().split()))\n",
    "\n",
    "average = sum(integers) / len(integers)\n",
    "top_5 = []\n",
    "\n",
    "for i in range(len(integers)):\n",
    "    if integers[i] > average:\n",
    "        top_5.append(integers[i])\n",
    "\n",
    "top_5.sort(reverse=True)\n",
    "top_5 = top_5[:5]\n",
    "top_5 = [str(top_5[i]) for i in range(len(top_5))]\n",
    "\n",
    "if len(top_5) == 0:\n",
    "    print(\"No\")\n",
    "else:\n",
    "    print(\" \".join(top_5))"
   ]
  }
 ],
 "metadata": {
  "kernelspec": {
   "display_name": "Python 3",
   "language": "python",
   "name": "python3"
  },
  "language_info": {
   "codemirror_mode": {
    "name": "ipython",
    "version": 3
   },
   "file_extension": ".py",
   "mimetype": "text/x-python",
   "name": "python",
   "nbconvert_exporter": "python",
   "pygments_lexer": "ipython3",
   "version": "3.8.3"
  }
 },
 "nbformat": 4,
 "nbformat_minor": 4
}
