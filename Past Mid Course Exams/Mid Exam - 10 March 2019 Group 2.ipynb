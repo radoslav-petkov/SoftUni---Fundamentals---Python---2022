{
 "cells": [
  {
   "cell_type": "markdown",
   "metadata": {},
   "source": [
    "# Mid Exam - 10 March 2019 Group 2"
   ]
  },
  {
   "cell_type": "markdown",
   "metadata": {},
   "source": [
    "## 01. The Hunting Games"
   ]
  },
  {
   "cell_type": "markdown",
   "metadata": {},
   "source": [
    "<i>A group of friends have decided to participate in a game called \"The Hunting Games\". The first stage of the game is to gather some supplies. They have a list and your job is to help them follow it and make the needed calculations.</i>\n",
    "<br><br>Write a program that calculates the needed provisions for a quest in the woods.\n",
    "<br><br>First you will receive the days of the adventure, the count of the players and the group’s energy. Afterwards, you will receive the following provisions per day for one person:\n",
    "* Water\n",
    "* Food"
   ]
  },
  {
   "cell_type": "markdown",
   "metadata": {},
   "source": [
    "The group calculates how many supplies they’d need for the adventure and take that much water and food.\n",
    "<br>\n",
    "<br>Every day they chop wood and lose a certain amount of energy. For each of the days, you are going to receive the energy loss from chopping wood. The program should end If the energy reaches 0 or less. \n",
    "<br>\n",
    "<br>Every second day they drink water, which boosts their energy with 5% of their current energy and at the same time drops their water supplies by 30% of their current water.\n",
    "<br>\n",
    "<br>Every third day they eat, which reduces their food supplies by the following amount:\n",
    "{currentFood} / {countOfPeople} and at the same time raises their group’s energy by 10%.\n",
    "<br>\n",
    "<br>The chopping of wood, the drinking of water, and the eating happen in the order above.\n",
    "<br>\n",
    "<br>If they have enough energy to finish the quest, print the following message:\n",
    "<br><br><b>\"You are ready for the quest. You will be left with - {energyLevel} energy!\"</b>\n",
    "<br><br>If they run out of energy print the following message and the food and water they were left with before they ran out of energy: \n",
    "<br><br><b>\"You will run out of energy. You will be left with {food} food and {water} water.\"</b>"
   ]
  },
  {
   "cell_type": "markdown",
   "metadata": {},
   "source": [
    "### Input / Constraints"
   ]
  },
  {
   "cell_type": "markdown",
   "metadata": {},
   "source": [
    "* On the 1st line, you are going to receive a number N - the days of the adventure – an integer in the range [1…100]\n",
    "* On the 2nd line – the count of players – an integer in the range [0 – 1000]\n",
    "* On the 3rd line - the group’s energy – a real number in the range [1 - 50000]\n",
    "* On the 4th line – water per day for one person – a real number [0.00 – 1000.00]\n",
    "* On the 5th line – food per day for one person – a real number [0.00 – 1000.00]\n",
    "* On the next N lines – one for each of the days – the amount of energy loss– a real number in the range [0.00 - 1000]\n",
    "* You will always have enough food and water."
   ]
  },
  {
   "cell_type": "markdown",
   "metadata": {},
   "source": [
    "### Output"
   ]
  },
  {
   "cell_type": "markdown",
   "metadata": {},
   "source": [
    "* \"You are ready for the quest. You will be left with - {energyLevel} energy!\" if they have enough energy\n",
    "* \"You will run out of energy. You will be left with {food} food and {water} water.\"\n",
    "<br>ll of the real numbers should be formatted to the second digit after the decimal separator"
   ]
  },
  {
   "cell_type": "code",
   "execution_count": 1,
   "metadata": {},
   "outputs": [
    {
     "name": "stdout",
     "output_type": "stream",
     "text": [
      "10\n",
      "7\n",
      "5035.5\n",
      "11.3\n",
      "7.2\n",
      "942.3\n",
      "500.57\n",
      "520.68\n",
      "540.87\n",
      "505.99\n",
      "630.3\n",
      "784.2\n",
      "321.21\n",
      "456.8\n",
      "330\n",
      "You are ready for the quest. You will be left with - 658.72 energy!\n"
     ]
    }
   ],
   "source": [
    "adventure_days = int(input())\n",
    "players = int(input())\n",
    "group_energy = float(input())\n",
    "water_per_day_for_person = float(input())\n",
    "food_per_day_for_person = float(input())\n",
    "\n",
    "water_supplies = players * water_per_day_for_person * adventure_days\n",
    "food_supplies = players * food_per_day_for_person * adventure_days\n",
    "no_energy_flag = False\n",
    "\n",
    "for day in range(1, adventure_days + 1):\n",
    "\n",
    "    energy_loss = float(input())\n",
    "    group_energy -= energy_loss\n",
    "    if group_energy <= 0:\n",
    "        no_energy_flag = True\n",
    "        break\n",
    "    if day % 2 == 0:\n",
    "        group_energy *= 1.05\n",
    "        water_supplies *= 0.7\n",
    "    if day % 3 == 0:\n",
    "        group_energy *= 1.10\n",
    "        food_supplies -= (food_supplies / players)\n",
    "\n",
    "if no_energy_flag:\n",
    "    print(f\"You will run out of energy. You will be left with {food_supplies:.2f} food and {water_supplies:.2f} water.\")\n",
    "else:\n",
    "    print(f\"You are ready for the quest. You will be left with - {group_energy:.2f} energy!\")"
   ]
  },
  {
   "cell_type": "markdown",
   "metadata": {},
   "source": [
    "## 02. Seize the Fire"
   ]
  },
  {
   "cell_type": "markdown",
   "metadata": {},
   "source": [
    "The group of adventurists have gone on their first task. Now they have to walk through fire - literally. They have to use all of the water they have left. Your task is to help them survive.\n",
    "- Create a program that calculates the water that is needed to put out a \"fire cell\", based on the given information about its \"fire level\" and how much it gets affected by water.\n",
    "- First, you will be given the level of fire inside the cell with the integer value of the cell, which represents the needed water to put out the fire.  They will be given in the following format:\n",
    "- \"{typeOfFire} = {valueOfCell}#{typeOfFire} = {valueOfCell}#{typeOfFire} = {valueOfCell}……\"\n",
    "- Afterwards you will receive the amount of water you have for putting out the fires. There is a range of fire for each of the fire types, and if a cell’s value is below or exceeds it, it is invalid and you don’t need to put it out."
   ]
  },
  {
   "cell_type": "markdown",
   "metadata": {},
   "source": [
    "Type of Fire - Range\n",
    "- High 81 - 125\n",
    "- Medium 51 - 80\n",
    "- Low 1 - 50"
   ]
  },
  {
   "cell_type": "markdown",
   "metadata": {},
   "source": [
    "If a cell is valid, you have to put it out by reducing the water with its value. Putting out fire also takes effort and you need to calculate it. Its value is equal to 25% of the cell’s value. In the end you will have to print the total effort. Keep putting out cells until you run out of water. If you don’t have enough water to put out a given cell – skip it and try the next one. In the end, print the cells you have put out in the following format:"
   ]
  },
  {
   "cell_type": "markdown",
   "metadata": {},
   "source": [
    "\"Cells:\n",
    "- {cell1}\n",
    "- {cell2}\n",
    "- {cell3}\n",
    "- ……\n",
    "- {cellN}\"\n",
    "- \"Effort: {effort}\"\n",
    "- In the end, print the total fire you have put out from all of the cells in the following format: \"Total Fire: {totalFire}\""
   ]
  },
  {
   "cell_type": "markdown",
   "metadata": {},
   "source": [
    "### Input / Constraints"
   ]
  },
  {
   "cell_type": "markdown",
   "metadata": {},
   "source": [
    "On the 1st line you are going to receive the fires with their cells in the format described above – integer numbers in the range [1…500]\n",
    "\n",
    "On the 2nd line, you are going to be given the water – an integer number in the range [0….100000]"
   ]
  },
  {
   "cell_type": "markdown",
   "metadata": {},
   "source": [
    "### Output"
   ]
  },
  {
   "cell_type": "markdown",
   "metadata": {},
   "source": [
    "Print the cells, which you have put out in the following format:"
   ]
  },
  {
   "cell_type": "code",
   "execution_count": 2,
   "metadata": {},
   "outputs": [
    {
     "name": "stdout",
     "output_type": "stream",
     "text": [
      "High = 89#Low = 28#Medium = 77#Low = 23\n",
      "1250\n",
      "Cells:\n",
      " - 89\n",
      " - 28\n",
      " - 77\n",
      " - 23\n",
      "Effort: 54.25\n",
      "Total Fire: 217\n"
     ]
    }
   ],
   "source": [
    "fire_list = input().split(\"#\")\n",
    "water = int(input())\n",
    "\n",
    "RANGE_HIGH = range(81, 126)\n",
    "RANGE_MED = range(51, 81)\n",
    "RANGE_LOW = range(1, 51)\n",
    "\n",
    "effort = 0\n",
    "fire_level_print = []\n",
    "\n",
    "for fire in fire_list:\n",
    "    type_of_fire, fire_level = fire.split(\" = \")\n",
    "    fire_level = int(fire_level)\n",
    "\n",
    "    is_valid = (type_of_fire == type_of_fire == \"High\" and fire_level in RANGE_HIGH) or (\n",
    "            type_of_fire == \"Medium\" and fire_level in RANGE_MED) or (type_of_fire == \"Low\" and fire_level in RANGE_LOW)\n",
    "\n",
    "    if is_valid and water >= fire_level:\n",
    "        water -= fire_level\n",
    "        fire_level_print.append(fire_level)\n",
    "        effort += fire_level\n",
    "\n",
    "print(\"Cells:\")\n",
    "\n",
    "for fire_level in fire_level_print:\n",
    "    print(f\" - {fire_level}\")\n",
    "    \n",
    "print(f\"Effort: {(effort * 0.25):.2f}\")\n",
    "print(f\"Total Fire: {effort}\")"
   ]
  },
  {
   "cell_type": "markdown",
   "metadata": {},
   "source": [
    "## 03. The Final Quest"
   ]
  },
  {
   "cell_type": "markdown",
   "metadata": {},
   "source": [
    "<i>After walking through fire, the group has reached the final step of the quest. They have received a list with instructions that will help them resolve the last riddle that will lead them to the truth about the Hunting Games.</i>\n",
    "<br>Create a program that follows given instructions. You will receive a collection of words on a single line, split by a single space. They are not what they are supposed to be, so you have to follow the instructions in order to find the real message. You will be receiving commands. Here are the possible ones:\n",
    "-\tDelete {index} – removes the word after the given index if it is valid.\n",
    "-\tSwap {word1} {word2} – find the given words in the collections if they exist and swap their places.\n",
    "-\tPut {word} {index} – add a word at the previous place {index} before the \n",
    "given one, if it is valid. Note: putting at the last index simply appends the word to the end of the list.\n",
    "-\tSort – you must sort the words in descending order.\n",
    "-\tReplace {word1} {word2} – find the second word {word2} in the collection (if it exists) and replace it with the first word – {word1}."
   ]
  },
  {
   "cell_type": "markdown",
   "metadata": {},
   "source": [
    "Follow them until you receive the \"Stop\" command. After you have successfully followed the instructions, you must print the words on a single line, split by a space."
   ]
  },
  {
   "cell_type": "markdown",
   "metadata": {},
   "source": [
    "### Input / Constraints"
   ]
  },
  {
   "cell_type": "markdown",
   "metadata": {},
   "source": [
    "* On the 1st line, you are going to receive the collection of words, split by a single space – strings\n",
    "* On the next lines, you are going to receive commands, until you receive the \"Stop\" command"
   ]
  },
  {
   "cell_type": "markdown",
   "metadata": {},
   "source": [
    "### Output"
   ]
  },
  {
   "cell_type": "markdown",
   "metadata": {},
   "source": [
    "* Print the words you have gathered on a single line, split by a single space"
   ]
  },
  {
   "cell_type": "code",
   "execution_count": 3,
   "metadata": {},
   "outputs": [
    {
     "name": "stdout",
     "output_type": "stream",
     "text": [
      "Congratulations! You last also through the have challenge!\n",
      "Swap have last\n",
      "Replace made have\n",
      "Delete 2\n",
      "Put it 4\n",
      "Stop\n",
      "Congratulations! You made it through the last challenge!\n"
     ]
    }
   ],
   "source": [
    "words = input().split()\n",
    "\n",
    "while True:\n",
    "    command = input().split()\n",
    "    if command[0] == \"Stop\":\n",
    "        break\n",
    "    elif command[0] == \"Delete\":\n",
    "        if int(command[1]) + 1 < len(words):\n",
    "            words.pop(int(command[1]) + 1)\n",
    "    elif command[0] == \"Swap\":\n",
    "        if command[1] in words and command[2] in words:\n",
    "            first_word_index = words.index(command[1])\n",
    "            second_word_index = words.index(command[2])\n",
    "            words[first_word_index] = command[2]\n",
    "            words[second_word_index] = command[1]\n",
    "    elif command[0] == \"Put\":\n",
    "        if 0 <= int(command[2]) - 1 <= len(words):\n",
    "            words.insert(int(command[2]) - 1, command[1])\n",
    "    elif command[0] == \"Sort\":\n",
    "        words.sort(reverse=True)\n",
    "    elif command[0] == \"Replace\":\n",
    "        if command[2] in words:\n",
    "            second_word_index = words.index(command[2])\n",
    "            words[second_word_index] = command[1]\n",
    "\n",
    "print(\" \".join(words))\n"
   ]
  }
 ],
 "metadata": {
  "kernelspec": {
   "display_name": "Python 3",
   "language": "python",
   "name": "python3"
  },
  "language_info": {
   "codemirror_mode": {
    "name": "ipython",
    "version": 3
   },
   "file_extension": ".py",
   "mimetype": "text/x-python",
   "name": "python",
   "nbconvert_exporter": "python",
   "pygments_lexer": "ipython3",
   "version": "3.8.3"
  }
 },
 "nbformat": 4,
 "nbformat_minor": 4
}
