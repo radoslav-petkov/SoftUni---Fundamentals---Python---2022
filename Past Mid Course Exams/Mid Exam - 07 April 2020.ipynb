{
 "cells": [
  {
   "cell_type": "markdown",
   "metadata": {},
   "source": [
    "#  Mid Exam Retake - 07 April 2020"
   ]
  },
  {
   "cell_type": "markdown",
   "metadata": {},
   "source": [
    "## Problem 1. Counter Strike"
   ]
  },
  {
   "cell_type": "markdown",
   "metadata": {},
   "source": [
    "Write a program that keeps track of every won battle against an enemy. You will receive initial energy. Afterwards you will start receiving the distance you need to go to reach an enemy until the \"End of battle\" command is given, or until you run out of energy.\n",
    "<br>\n",
    "<br>\n",
    "The energy you need for reaching an enemy is equal to the distance you receive. Each time you reach an enemy, your energy is reduced. This is considered a successful battle (win). If you don't have enough energy to reach an the enemy, print:\n",
    "<br>\n",
    "<br>\n",
    "\"Not enough energy! Game ends with {count} won battles and {energy} energy\"\n",
    "<br>\n",
    "and end the program.\n",
    "<br>\n",
    "<br>\n",
    "Every third won battle increases your energy with the value of your current count of won battles. \n",
    "<br>\n",
    "<br>\n",
    "Upon receiving the \"End of battle\" command, print the count of won battles in the following format:\n",
    "<br>\n",
    "\"Won battles: {count}. Energy left: {energy}\" "
   ]
  },
  {
   "cell_type": "markdown",
   "metadata": {},
   "source": [
    "### Input / Constraints"
   ]
  },
  {
   "cell_type": "markdown",
   "metadata": {},
   "source": [
    "* On the first line you will receive initial energy – an integer [1-10000].\n",
    "* On the next lines, you will be receiving distance of the enemy – an integer [1-10000]"
   ]
  },
  {
   "cell_type": "markdown",
   "metadata": {},
   "source": [
    "### Output"
   ]
  },
  {
   "cell_type": "markdown",
   "metadata": {},
   "source": [
    "* The description contains the proper output messages for each case and the format in which they \n",
    "should be print."
   ]
  },
  {
   "cell_type": "code",
   "execution_count": 1,
   "metadata": {},
   "outputs": [
    {
     "name": "stdout",
     "output_type": "stream",
     "text": [
      "200\n",
      "54\n",
      "14\n",
      "28\n",
      "13\n",
      "End of battle\n",
      "Won battles: 4. Energy left: 94\n"
     ]
    }
   ],
   "source": [
    "energy = int(input())\n",
    "\n",
    "win_counter = 0\n",
    "\n",
    "while True:\n",
    "    distance = input()\n",
    "\n",
    "    if distance == \"End of battle\":\n",
    "        print(f\"Won battles: {win_counter}. Energy left: {energy}\")\n",
    "        break\n",
    "\n",
    "    elif energy - int(distance) < 0:\n",
    "        print(f\"Not enough energy! Game ends with {win_counter} won battles and {energy} energy\")\n",
    "        break\n",
    "\n",
    "    energy -= int(distance)\n",
    "    win_counter += 1\n",
    "\n",
    "    if win_counter % 3 == 0:\n",
    "        energy += win_counter"
   ]
  },
  {
   "cell_type": "markdown",
   "metadata": {},
   "source": [
    "## Problem 2. Shoot for the Win"
   ]
  },
  {
   "cell_type": "markdown",
   "metadata": {},
   "source": [
    "Write a program that helps you keep track of your shot targets. You will receive a sequence with integers, separated by single space, representing targets and their value. Afterwards, you will be receiving indices until the \"End\" command is given and you need to print the targets and the count of shot targets.\n",
    "<br>\n",
    "Every time you receive an index, you need to shoot the target on that index, if it is possiblie. \n",
    "<br>\n",
    "<br>\n",
    "Everytime you shoot a target, its value becomes -1 and it is considered shot. Along with that you also need to:\n",
    "* Reduce all the other targets, which have greater values than your current target, with its value. \n",
    "* All the targets, which have less than or equal value to the shot target, you need to increase with its value.\n",
    "<br>\n",
    "<br>\n",
    "Keep in mind that you can't shoot a target, which is already shot. You also can't increase or reduce a target, which is considered shot.\n",
    "<br>\n",
    "When you receive the \"End\" command, print the targets in their current state and the count of shot targets in the following format:\n",
    "<br>\n",
    "\"Shot targets: {count} -> {target1} {target2}… {targetn}\""
   ]
  },
  {
   "cell_type": "markdown",
   "metadata": {},
   "source": [
    "### Input / Constraints"
   ]
  },
  {
   "cell_type": "markdown",
   "metadata": {},
   "source": [
    "* On the first line of input you will receive a sequence of integers, separated by a single space – the targets sequence.\n",
    "* On the next lines, until the \"End\" command you be receiving integers each on a single line – the index of the target to be shot."
   ]
  },
  {
   "cell_type": "markdown",
   "metadata": {},
   "source": [
    "### Output"
   ]
  },
  {
   "cell_type": "markdown",
   "metadata": {},
   "source": [
    "* The format of the output is described above in the problem description."
   ]
  },
  {
   "cell_type": "code",
   "execution_count": 2,
   "metadata": {},
   "outputs": [
    {
     "name": "stdout",
     "output_type": "stream",
     "text": [
      "30 30 12 60 54 66\n",
      "5\n",
      "2\n",
      "4\n",
      "0\n",
      "End\n",
      "Shot targets: 4 -> -1 120 -1 66 -1 -1\n"
     ]
    }
   ],
   "source": [
    "targets = list(map(int, input().split()))\n",
    "\n",
    "while True:\n",
    "    index = input()\n",
    "\n",
    "    if index == \"End\":\n",
    "        break\n",
    "\n",
    "    index = int(index)\n",
    "\n",
    "    if index in range(len(targets)):\n",
    "        reduce = targets.pop(index)\n",
    "\n",
    "        for target in range(len(targets)):\n",
    "            if targets[target] != -1:\n",
    "                if reduce < targets[target]:\n",
    "                    targets[target] -= reduce\n",
    "                else:\n",
    "                    targets[target] += reduce\n",
    "\n",
    "        targets.insert(index, -1)\n",
    "\n",
    "counter = targets.count(-1)\n",
    "targets = [str(target) for target in targets]\n",
    "\n",
    "print(f'Shot targets: {counter} -> {\" \".join(targets)}')"
   ]
  },
  {
   "cell_type": "markdown",
   "metadata": {},
   "source": [
    "## Problem 3. Moving Target"
   ]
  },
  {
   "cell_type": "markdown",
   "metadata": {},
   "source": [
    "You are at the shooting gallery again and you need a program that helps you keep track of moving targets. On the first line, you will receive a sequence of targets with their integer values, split by a single space. Then, you will start receiving commands for manipulating the targets, until the \"End\" command. The commands are the following:\n",
    "<br>\n",
    "* Shoot {index} {power}\n",
    "    * Shoot the target at the index, if it exists by reducing its value by the given power (integer value).A target is considered shot when its value reaches 0.\n",
    "    * Remove the target, if it is shot.\n",
    "* Add {index} {value}\n",
    "    * Insert a target with the received value at the received index, if it exist. If not, print: \"Invalid placement!\"\n",
    "* Strike {index} {radius}\n",
    "    * Remove the target at the given index and the ones before and after it depending on the radius, if such exist. If any of the indices in the range is invalid print:\n",
    "<br>    \n",
    "\"Strike missed!\" and skip this command."
   ]
  },
  {
   "cell_type": "markdown",
   "metadata": {},
   "source": [
    " Example:  Strike 2 2: {radius}\t{radius}\t{strikeIndex}\t{radius}\t{radius}\n",
    "<br>\n",
    "<br>\n",
    "* End\n",
    "    * Print the sequence with targets in the following format:\n",
    "<br>{target1}|{target2}…|{targetn}"
   ]
  },
  {
   "cell_type": "markdown",
   "metadata": {},
   "source": [
    "### Input / Constraints"
   ]
  },
  {
   "cell_type": "markdown",
   "metadata": {},
   "source": [
    "* On the first line you will receive the sequence of targets – integer values [1-10000].\n",
    "* On the next lines, until the \"End\" will be receiving the command described above – strings.\n",
    "* There will never be a case when \"Strike\" command would empty the whole sequence."
   ]
  },
  {
   "cell_type": "markdown",
   "metadata": {},
   "source": [
    "### Output"
   ]
  },
  {
   "cell_type": "markdown",
   "metadata": {},
   "source": [
    "* Print the appropriate message in case of \"Strike\" command if necessary.\n",
    "* In the end, print the sequence of targets in the format described above."
   ]
  },
  {
   "cell_type": "code",
   "execution_count": 3,
   "metadata": {},
   "outputs": [
    {
     "name": "stdout",
     "output_type": "stream",
     "text": [
      "52 74 23 44 96 110\n",
      "Shoot 5 10\n",
      "Shoot 1 80\n",
      "Strike 2 1\n",
      "Add 22 3\n",
      "Invalid placement!\n",
      "End\n",
      "52|100\n"
     ]
    }
   ],
   "source": [
    "targets = list(map(int, input().split()))\n",
    "\n",
    "\n",
    "def shoot(i, v):\n",
    "    if i in range(len(targets)):\n",
    "        targets[i] -= v\n",
    "        if targets[i] <= 0:\n",
    "            targets.pop(i)\n",
    "            return targets\n",
    "    return targets\n",
    "\n",
    "\n",
    "def add(i, v):\n",
    "    if i in range(len(targets)):\n",
    "        targets.insert(i, v)\n",
    "    else:\n",
    "        print(\"Invalid placement!\")\n",
    "    return targets\n",
    "\n",
    "\n",
    "def strike(i, v):\n",
    "    start_index = i - v\n",
    "    end_index = i + v + 1\n",
    "    if start_index >= 0 and end_index in range(len(targets)):\n",
    "        targets_removed = targets[:start_index] + targets[end_index:]\n",
    "        return targets_removed\n",
    "    else:\n",
    "        print(\"Strike missed!\")\n",
    "        return targets\n",
    "\n",
    "\n",
    "while True:\n",
    "    command = input().split()\n",
    "    if command[0] == \"End\":\n",
    "        break\n",
    "    action = command[0]\n",
    "    index = int(command[1])\n",
    "    value = int(command[2])\n",
    "\n",
    "    if action == \"Shoot\":\n",
    "        targets = shoot(index, value)\n",
    "\n",
    "    elif action == \"Add\":\n",
    "        targets = add(index, value)\n",
    "\n",
    "    elif action == \"Strike\":\n",
    "        targets = strike(index, value)\n",
    "\n",
    "targets = [str(target) for target in targets]\n",
    "\n",
    "print(\"|\".join(targets))"
   ]
  }
 ],
 "metadata": {
  "kernelspec": {
   "display_name": "Python 3",
   "language": "python",
   "name": "python3"
  },
  "language_info": {
   "codemirror_mode": {
    "name": "ipython",
    "version": 3
   },
   "file_extension": ".py",
   "mimetype": "text/x-python",
   "name": "python",
   "nbconvert_exporter": "python",
   "pygments_lexer": "ipython3",
   "version": "3.8.3"
  }
 },
 "nbformat": 4,
 "nbformat_minor": 4
}
