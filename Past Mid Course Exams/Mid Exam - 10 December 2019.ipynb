{
 "cells": [
  {
   "cell_type": "markdown",
   "metadata": {},
   "source": [
    "# Mid Exam Retake - 10 December 2019"
   ]
  },
  {
   "cell_type": "markdown",
   "metadata": {},
   "source": [
    "## 01. Disneyland Journey"
   ]
  },
  {
   "cell_type": "markdown",
   "metadata": {},
   "source": [
    "Create a program that checks if you can save the money for the Disneyland’s journey. You have a certain number of months for which you can collect the money.\n",
    "<br>\n",
    "At the end of each month, you save 25% of the cost of the journey. \n",
    "<br>\n",
    "At the beginning of every odd month (except the first one) you spent 16% of the money collected so far for clothes and shoes.\n",
    "<br>\n",
    "Every 4th (fourth) month at the beginning of the month your boss gives you а bonus. It is 25% of the money collected so far.\n",
    "<br>\n",
    "If you save enough money for the journey, calculate how much money will be left for the souvenirs. Then print the following:\n",
    "<br>\n",
    "\"Bravo! You can go to Disneyland and you will have {money}lv. for souvenirs.\"\n",
    "<br>\n",
    "If the saved money is less you should calculate how much money you need more. Then print the following:\n",
    "<br>\n",
    "\"Sorry. You need {money}lv. more.\"\n",
    "<br>\n",
    "Both numbers should be formatted to the 2nd decimal place."
   ]
  },
  {
   "cell_type": "markdown",
   "metadata": {},
   "source": [
    "### Input"
   ]
  },
  {
   "cell_type": "markdown",
   "metadata": {},
   "source": [
    "* On the 1st line you will receive how much the journey will cost – a real number in the range [500.0…10000.0]\n",
    "* On the 2nd line you will receive the number of months for which you have to collect money – an integer number in the range [1…12]\n"
   ]
  },
  {
   "cell_type": "markdown",
   "metadata": {},
   "source": [
    "### Output"
   ]
  },
  {
   "cell_type": "markdown",
   "metadata": {},
   "source": [
    "Print the output in the format described above."
   ]
  },
  {
   "cell_type": "code",
   "execution_count": 1,
   "metadata": {},
   "outputs": [
    {
     "name": "stdout",
     "output_type": "stream",
     "text": [
      "1000\n",
      "4\n",
      "Bravo! You can go to Disneyland and you will have 87.50lv. for souvenirs.\n"
     ]
    }
   ],
   "source": [
    "costs = float(input())\n",
    "months = int(input())\n",
    "\n",
    "money_saved = 0\n",
    "\n",
    "for month in range(1, months + 1):\n",
    "    if month % 2 == 1 and months != 1:\n",
    "        money_saved *= 0.84\n",
    "    if month % 4 == 0:\n",
    "        money_saved *= 1.25\n",
    "\n",
    "    money_saved += (0.25 * costs)\n",
    "\n",
    "difference = abs(money_saved - costs)\n",
    "\n",
    "if money_saved >= costs:\n",
    "    print(f\"Bravo! You can go to Disneyland and you will have {difference:.2f}lv. for souvenirs.\")\n",
    "else:\n",
    "    print(f\"Sorry. You need {difference:.2f}lv. more.\")"
   ]
  },
  {
   "cell_type": "markdown",
   "metadata": {},
   "source": [
    "## 02. Archery Tournament"
   ]
  },
  {
   "cell_type": "markdown",
   "metadata": {},
   "source": [
    "Our hero Iskren is going to take part in an archery tournament. Your task is to help him calculate his points.\n",
    "<br>\n",
    "On the first line you will receive integers separated by \"|\", representing the targets in the archery field.\n",
    "<br>\n",
    "On the next lines until you receive \"Game over\" command, you will receive commands by the Judge of the tournament:\n",
    "* \"Shoot Left@{start index}@{length}\":\n",
    "    * Iskren starts traversing the archery field to the left from {start index} with given {length}. \n",
    "    * If he goes out of the field, he will continue from the end of the field.\n",
    "* \"Shoot Right@{start index}@{length}\":\n",
    "    * Iskren starts traversing the archery field to the right from {start index} with given {length}.\n",
    "    * If he goes out of the field, he will continue from the start of the field.\n",
    "* \"Reverse\":\n",
    "    Reverse the archery field.\n",
    "* \"Game Over\"\n",
    "    Print the archery field and collected points.\n",
    "<br>\n",
    "When he arrives at the target, he will shoot at it and increase his points by 5 and decrease the target by 5 points, if the target points are less than 5, he takes all of them and decreases it to 0. If the start index is out of range of the field Iskren will have to ignore the command.\n"
   ]
  },
  {
   "cell_type": "markdown",
   "metadata": {},
   "source": [
    "### Input"
   ]
  },
  {
   "cell_type": "markdown",
   "metadata": {},
   "source": [
    "* On the first line, you will receive integers separated by \"|\" representing the targets in the archery field.\n",
    "* On the next lines, until the \"Game over\" command you will receive commands in the format described above."
   ]
  },
  {
   "cell_type": "markdown",
   "metadata": {},
   "source": [
    "### Output"
   ]
  },
  {
   "cell_type": "markdown",
   "metadata": {},
   "source": [
    "Print the field in following format: \"{target} - {target} - {target} ….. - {target}\".\n",
    "<br>\"Iskren finished the archery tournament with {points}!\""
   ]
  },
  {
   "cell_type": "code",
   "execution_count": 4,
   "metadata": {},
   "outputs": [
    {
     "name": "stdout",
     "output_type": "stream",
     "text": [
      "20|30|40|50|60\n",
      "Shoot Left@0@12\n",
      "Shoot Right@4@15\n",
      "Shoot Left@6@5\n",
      "Reverse\n",
      "Game over\n",
      "55 - 45 - 40 - 30 - 20\n",
      "Iskren finished the archery tournament with 10 points!\n"
     ]
    }
   ],
   "source": [
    "targets = input().split(\"|\")\n",
    "targets = [int(target) for target in targets]\n",
    "\n",
    "points = 0\n",
    "\n",
    "while True:\n",
    "    command = input().split(\"@\")\n",
    "\n",
    "    if command[0] == \"Game over\":\n",
    "        break\n",
    "        \n",
    "    elif command[0][0] == \"S\" and int(command[1]) in range(len(targets)):\n",
    "        if command[0] == \"Shoot Left\":\n",
    "            index = (int(command[1]) - int(command[2])) % len(targets)\n",
    "        elif command[0] == \"Shoot Right\":\n",
    "            index = (int(command[1]) + int(command[2])) % len(targets)\n",
    "            \n",
    "        if targets[index] < 5:\n",
    "            points += targets[index]\n",
    "            targets[index] = 0\n",
    "        else:\n",
    "            points += 5\n",
    "            targets[index] -= 5\n",
    "\n",
    "    elif command[0] == \"Reverse\":\n",
    "        targets.reverse()\n",
    "\n",
    "targets = [str(target) for target in targets]\n",
    "\n",
    "print(\" - \".join(targets))\n",
    "print(f\"Iskren finished the archery tournament with {points} points!\")"
   ]
  },
  {
   "cell_type": "markdown",
   "metadata": {},
   "source": [
    "## 03. School Library"
   ]
  },
  {
   "cell_type": "markdown",
   "metadata": {},
   "source": [
    "On the first line you will receive a String, representing shelf with books in library. Every book is separated with \"&\".\n",
    "<br>\n",
    " On the next lines until you receive \"Done\" command, you will receive following commands:\n",
    "* Add Book | {book name}\n",
    "    * Add a book at first place in the shelf. \n",
    "    * If the book already is present on the shelf, ignore the command. \n",
    "* Take Book | {book name}\n",
    "    * Remove the book with the given name only if the book is on the shelf, otherwise ignore this command.\n",
    "* Swap Books | {book1} | {book2}\n",
    "    * If both books are on the shelf, swap their places. \n",
    "* Insert Book | {book name}\n",
    "    * Add a book at the end of the book collection. \n",
    "* Check Book | {index}\n",
    "    * Print the name of the book on the given index the book.\n",
    "    * If the index is invalid, ignore the command."
   ]
  },
  {
   "cell_type": "markdown",
   "metadata": {},
   "source": [
    "### Input"
   ]
  },
  {
   "cell_type": "markdown",
   "metadata": {},
   "source": [
    "* On the 1st line, you will receive a string, representing book names, separated with \"&\".\n",
    "* On the next lines, until you receive \"Done\", you will receive commands in the format described above."
   ]
  },
  {
   "cell_type": "markdown",
   "metadata": {},
   "source": [
    "### Output"
   ]
  },
  {
   "cell_type": "markdown",
   "metadata": {},
   "source": [
    "* Print the collection of books joined by \", \".\n",
    "<br>\n",
    "\"{firstBook}, {secondBook}, …{lastBook}\""
   ]
  },
  {
   "cell_type": "markdown",
   "metadata": {},
   "source": [
    "### Constraints"
   ]
  },
  {
   "cell_type": "markdown",
   "metadata": {},
   "source": [
    "* You won't receive duplicate book names in the initial list of books."
   ]
  },
  {
   "cell_type": "code",
   "execution_count": 3,
   "metadata": {},
   "outputs": [
    {
     "name": "stdout",
     "output_type": "stream",
     "text": [
      "Anna Karenina&Heart of Darkness&Catch-22& The Stranger\n",
      "Add Book | David Copperfield\n",
      "Add Book | One Thousand and One Nights\n",
      "Swap Books | One Thousand and One Nights | Catch-22\n",
      "Take Book | David Copperfield\n",
      "Insert Book | The Stories of Anton Chekhov\n",
      "Check Book | 17\n",
      "Done\n",
      "Catch-22, Anna Karenina, Heart of Darkness, One Thousand and One Nights,  The Stranger, The Stories of Anton Chekhov\n"
     ]
    }
   ],
   "source": [
    "book_names = input().split(\"&\")\n",
    "\n",
    "while True:\n",
    "    command = input().split(\" | \")\n",
    "    if command[0] == \"Done\":\n",
    "        break\n",
    "\n",
    "    if command[0] == \"Add Book\":\n",
    "        if command[1] not in book_names:\n",
    "            book_names.insert(0, command[1])\n",
    "\n",
    "    elif command[0] == \"Take Book\":\n",
    "        if command[1] in book_names:\n",
    "            book_names = [book for book in book_names if book != command[1]]\n",
    "\n",
    "    elif command[0] == \"Swap Books\":\n",
    "        if command[1] in book_names and command[2] in book_names:\n",
    "            book1_index = book_names.index(command[1])\n",
    "            book2_index = book_names.index(command[2])\n",
    "            book_names[book1_index], book_names[book2_index] = book_names[book2_index], book_names[book1_index]\n",
    "\n",
    "    elif command[0] == \"Insert Book\":\n",
    "        book_names.append(command[1])\n",
    "\n",
    "    elif command[0] == \"Check Book\":\n",
    "        if int(command[1]) in range(len(book_names)):\n",
    "            print(book_names[int(command[1])])\n",
    "\n",
    "print(\", \".join(book_names))"
   ]
  }
 ],
 "metadata": {
  "kernelspec": {
   "display_name": "Python 3",
   "language": "python",
   "name": "python3"
  },
  "language_info": {
   "codemirror_mode": {
    "name": "ipython",
    "version": 3
   },
   "file_extension": ".py",
   "mimetype": "text/x-python",
   "name": "python",
   "nbconvert_exporter": "python",
   "pygments_lexer": "ipython3",
   "version": "3.8.3"
  }
 },
 "nbformat": 4,
 "nbformat_minor": 4
}
