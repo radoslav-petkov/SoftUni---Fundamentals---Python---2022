{
 "cells": [
  {
   "cell_type": "markdown",
   "metadata": {},
   "source": [
    "# Mid Exam - 12 August 2020"
   ]
  },
  {
   "cell_type": "markdown",
   "metadata": {},
   "source": [
    "## Problem 1. Computer Store"
   ]
  },
  {
   "cell_type": "markdown",
   "metadata": {},
   "source": [
    "Write a program that prints you a receipt for your new computer. You will receive the prices (without tax) of the parts until you receive what type of customer is this - special or regular. Once you receive the type of the customer you should print the receipt.\n",
    "<br>\n",
    "<br>\n",
    "The taxes are 20% of each part's price you receive. \n",
    "<br>\n",
    "<br>\n",
    "If the customer is special, then he has a 10% discount of the price of the total price with taxes.\n",
    "<br>\n",
    "<br>\n",
    "If a given price is not positive number, you should print \"Invalid price!\" on the console and continue with the next price.\n",
    "<br>\n",
    "<br>\n",
    "If total price is equal to zero, you should print \"Invalid order!\" on the console."
   ]
  },
  {
   "cell_type": "markdown",
   "metadata": {},
   "source": [
    "### Input"
   ]
  },
  {
   "cell_type": "markdown",
   "metadata": {},
   "source": [
    "* You will receive numbers representing prices (without tax) until command \"special\" or \"regular\":"
   ]
  },
  {
   "cell_type": "markdown",
   "metadata": {},
   "source": [
    "### Output"
   ]
  },
  {
   "cell_type": "markdown",
   "metadata": {},
   "source": [
    "* The receipt should be in the following format: "
   ]
  },
  {
   "cell_type": "markdown",
   "metadata": {},
   "source": [
    "\"Congratulations you've just bought a new computer!<br>\n",
    "Price without taxes: {total price without taxes}$<br>\n",
    "Taxes: {total amount of taxes}$<br>\n",
    "-----------<br>\n",
    "Total price: {total price with taxes}$\"<br>"
   ]
  },
  {
   "cell_type": "markdown",
   "metadata": {},
   "source": [
    "### Constraints"
   ]
  },
  {
   "cell_type": "markdown",
   "metadata": {},
   "source": [
    "Note: All prices should be displayed to the second digit after the decimal point! The discount is applied only on the total price.  Discount is only applicable to the final price!"
   ]
  },
  {
   "cell_type": "code",
   "execution_count": 4,
   "metadata": {},
   "outputs": [
    {
     "name": "stdout",
     "output_type": "stream",
     "text": [
      "1050\n",
      "200\n",
      "450\n",
      "2\n",
      "18.5\n",
      "16.86\n",
      "special\n",
      "Congratulations you've just bought a new computer!\n",
      "Price without taxes: 1737.36$\n",
      "Taxes: 347.47$\n",
      "-----------\n",
      "Total price: 1876.35$\n"
     ]
    }
   ],
   "source": [
    "customer = \"\"\n",
    "receipt = 0\n",
    "total_prices = 0\n",
    "\n",
    "while True:\n",
    "    price = input()\n",
    "\n",
    "    if price == \"special\" or price == \"regular\":\n",
    "        customer = price\n",
    "        break\n",
    "\n",
    "    if float(price) < 0:\n",
    "        print(\"Invalid price!\")\n",
    "    else:\n",
    "        total_prices += float(price)\n",
    "\n",
    "taxes = total_prices * 0.2\n",
    "receipt = total_prices + taxes\n",
    "\n",
    "if customer == \"special\":\n",
    "    receipt *= 0.9\n",
    "\n",
    "if receipt == 0:\n",
    "    print(\"Invalid order!\")\n",
    "else:\n",
    "    print(\"Congratulations you've just bought a new computer!\")\n",
    "    print(f\"Price without taxes: {total_prices:.2f}$\")\n",
    "    print(f\"Taxes: {taxes:.2f}$\")\n",
    "    print(\"-----------\")\n",
    "    print(f\"Total price: {receipt:.2f}$\")"
   ]
  },
  {
   "cell_type": "markdown",
   "metadata": {},
   "source": [
    "## Problem 2. The Lift"
   ]
  },
  {
   "cell_type": "markdown",
   "metadata": {},
   "source": [
    "Write a program that finds a place for the tourist on a lift. ,.<br><br>\n",
    "Every wagon should have a maximum of 4 people on it. If a wagon is full you should direct the people to the next one with space available."
   ]
  },
  {
   "cell_type": "markdown",
   "metadata": {},
   "source": [
    "### Input"
   ]
  },
  {
   "cell_type": "markdown",
   "metadata": {},
   "source": [
    "* On the first line you, will receive how many people are waiting to get on the lift\n",
    "* On the second line, you will you will receive the current state of the lift separated by \" \"."
   ]
  },
  {
   "cell_type": "markdown",
   "metadata": {},
   "source": [
    "### Output"
   ]
  },
  {
   "cell_type": "markdown",
   "metadata": {},
   "source": [
    "When there is no more available space left on the lift, or there are no more people in the queue, you should print on the console the final state of the lift's wagons separated by \" \" and one of the following messages:\n",
    "* If there are no more people and the lift have empty spots you should print:\n",
    "<br>\"The lift has empty spots!\n",
    "<br>{wagons separated by ' '}\"\n",
    "* If there are still people on the queue and no more available space, you should print:\n",
    "<br>\"There isn't enough space! {people} people in a queue!\n",
    "<br>{wagons separated by ' '}\"\n",
    "* If the lift is full and there are no more people in the queue, you should print only the wagons separated by \" \""
   ]
  },
  {
   "cell_type": "code",
   "execution_count": 5,
   "metadata": {},
   "outputs": [
    {
     "name": "stdout",
     "output_type": "stream",
     "text": [
      "20\n",
      "0 2 0\n",
      "There isn't enough space! 10 people in a queue!\n",
      "4 4 4\n"
     ]
    }
   ],
   "source": [
    "waiting_people = int(input())\n",
    "lift = list(map(int, input().split()))\n",
    "\n",
    "for i in range(len(lift)):\n",
    "    free_places = 4 - lift[i]\n",
    "\n",
    "    if free_places >= waiting_people:\n",
    "        lift[i] += waiting_people\n",
    "        waiting_people = 0\n",
    "    else:\n",
    "        waiting_people -= free_places\n",
    "        lift[i] = 4\n",
    "\n",
    "average_sum = sum(lift) / len(lift)\n",
    "lift = [str(lift[i]) for i in range(len(lift))]\n",
    "\n",
    "if waiting_people > 0:\n",
    "    print(f\"There isn't enough space! {waiting_people} people in a queue!\")\n",
    "    print(\" \".join(lift))\n",
    "elif average_sum != 4:\n",
    "    print(\"The lift has empty spots!\")\n",
    "    print(\" \".join(lift))\n",
    "else:\n",
    "    print(\" \".join(lift))"
   ]
  },
  {
   "cell_type": "markdown",
   "metadata": {},
   "source": [
    "## 03. Memory game"
   ]
  },
  {
   "cell_type": "markdown",
   "metadata": {},
   "source": [
    "Write a program, which receives a sequence of elements. Each element in the sequence will have a twin. Until the player receives \"end\" from the console, he will receive strings with two integers separated by space, which represent the indexes of elements in the sequence.  <br> <br>\n",
    "If the player tries to cheat and enters two equal indexes or indexes which are out of bounds of the sequence you should add two matching elements in the following format \"-{number of moves until now}a\" at the middle of the sequence and print this message on the console: <br> <br>\n",
    "\"Invalid input! Adding additional elements to the board\"\n"
   ]
  },
  {
   "cell_type": "markdown",
   "metadata": {},
   "source": [
    "### Input"
   ]
  },
  {
   "cell_type": "markdown",
   "metadata": {},
   "source": [
    "* On the first line you will receive sequence of elements."
   ]
  },
  {
   "cell_type": "markdown",
   "metadata": {},
   "source": [
    "### Output"
   ]
  },
  {
   "cell_type": "markdown",
   "metadata": {},
   "source": [
    "* Every time the player hit two matching elements you should remove them from the sequence and print on the console the following message:\n",
    "<br>\"Congrats! You have found matching elements - ${element}!\"\n",
    "* If the player hit two different elements, you should print on the console the following message:\n",
    "<br>\"Try again!\"\n",
    "* If the player hit all matching elements before he receives \"end\" from the console, you should print on the console the following message: \n",
    "<br>\"You have won in {number of moves until now} turns!\"\n",
    "* If the player receives \"end\" before he hits all matching elements, you should print on the console the following message:\n",
    "<br>\"Sorry you lose :(\n",
    "<br>{the current sequence's state}\""
   ]
  },
  {
   "cell_type": "markdown",
   "metadata": {},
   "source": [
    "### Constraints"
   ]
  },
  {
   "cell_type": "markdown",
   "metadata": {},
   "source": [
    "* All elements in the sequence will always have a matching element."
   ]
  },
  {
   "cell_type": "code",
   "execution_count": 7,
   "metadata": {},
   "outputs": [
    {
     "name": "stdout",
     "output_type": "stream",
     "text": [
      "a 2 4 a 2 4 \n",
      "0 3\n",
      "Congrats! You have found matching elements - a!\n",
      "0 2\n",
      "Congrats! You have found matching elements - 2!\n",
      "0 1\n",
      "Congrats! You have found matching elements - 4!\n",
      "You have won in 3 turns!\n"
     ]
    }
   ],
   "source": [
    "def cheat():\n",
    "    add_element = f\"-{moves}a\"\n",
    "    add_index = len(elements) // 2\n",
    "    elements.insert(add_index, add_element)\n",
    "    elements.insert(add_index, add_element)\n",
    "    print(\"Invalid input! Adding additional elements to the board\")\n",
    "    return elements\n",
    "\n",
    "\n",
    "def matching(i1, i2):\n",
    "    match = elements[first_index]\n",
    "    index_to_remove = [first_index, second_index]\n",
    "    for i in sorted(index_to_remove, reverse=True):\n",
    "        del elements[i]\n",
    "    print(f\"Congrats! You have found matching elements - {match}!\")\n",
    "    return elements\n",
    "\n",
    "\n",
    "elements = input().split()\n",
    "moves = 0\n",
    "\n",
    "while True:\n",
    "    indexes = input()\n",
    "\n",
    "    if indexes == \"end\":\n",
    "        print(\"Sorry you lose :(\")\n",
    "        print(\" \".join(elements))\n",
    "        break\n",
    "\n",
    "    indexes = indexes.split()\n",
    "    first_index = int(indexes[0])\n",
    "    second_index = int(indexes[1])\n",
    "    moves += 1\n",
    "\n",
    "    if first_index == second_index or first_index not in range(len(elements)) or second_index not in range(\n",
    "            len(elements)):\n",
    "        elements = cheat()\n",
    "\n",
    "    elif elements[first_index] == elements[second_index]:\n",
    "        elements = matching(first_index, second_index)\n",
    "\n",
    "    elif elements[first_index] != elements[second_index]:\n",
    "        print(\"Try again!\")\n",
    "\n",
    "    if len(elements) == 0:\n",
    "        print(f\"You have won in {moves} turns!\")\n",
    "        break"
   ]
  }
 ],
 "metadata": {
  "kernelspec": {
   "display_name": "Python 3",
   "language": "python",
   "name": "python3"
  },
  "language_info": {
   "codemirror_mode": {
    "name": "ipython",
    "version": 3
   },
   "file_extension": ".py",
   "mimetype": "text/x-python",
   "name": "python",
   "nbconvert_exporter": "python",
   "pygments_lexer": "ipython3",
   "version": "3.8.3"
  }
 },
 "nbformat": 4,
 "nbformat_minor": 4
}
