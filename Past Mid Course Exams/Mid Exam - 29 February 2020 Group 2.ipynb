{
 "cells": [
  {
   "cell_type": "markdown",
   "metadata": {},
   "source": [
    "# Mid Exam - 29 February 2020 Group 2"
   ]
  },
  {
   "cell_type": "markdown",
   "metadata": {},
   "source": [
    "## Problem 1. National Court"
   ]
  },
  {
   "cell_type": "markdown",
   "metadata": {},
   "source": [
    "*Every day thousands of people pass by the reception at \"National Court\" with various questions to ask and the employees have to help everyone by providing correct information and to answer all questions./*\n",
    "\n",
    "<br>There are 3 employees working on the reception all day long. Each of them can handle different number of people per hour. Your task is to calculate how much time it will take to answer all the questions of a given number of people.\n",
    "\n",
    "<br>First you will receive 3 lines with integers, representing the count of people that each of the employee can help per hour. On the next line you will receive the total people count as a single integer. \n",
    "<br>Every fourth hour all the employees have a one-hour break before they start working again. This is the only break they get because they dont need rest and have no personal life. Calculate the time needed to answer all peoples questions and print it in the following format: \"Time needed: {time}h.\""
   ]
  },
  {
   "cell_type": "markdown",
   "metadata": {},
   "source": [
    "### Input / Constraints"
   ]
  },
  {
   "cell_type": "markdown",
   "metadata": {},
   "source": [
    "* On first three lines -  each employee`s efficiency -  an integer in the range [1 - 100]\n",
    "* On the fourth line - people count – an integer in the range [0 – 10000]\n",
    "* Input will always be valid and in the range specified"
   ]
  },
  {
   "cell_type": "markdown",
   "metadata": {},
   "source": [
    "### Output"
   ]
  },
  {
   "cell_type": "markdown",
   "metadata": {},
   "source": [
    "* Print a single line: \"Time needed: {time}h.\"\n",
    "* Allowed working time / memory: 100ms / 16MB"
   ]
  },
  {
   "cell_type": "code",
   "execution_count": 1,
   "metadata": {},
   "outputs": [
    {
     "name": "stdout",
     "output_type": "stream",
     "text": [
      "1\n",
      "2\n",
      "3\n",
      "45\n",
      "Time needed: 10h.\n"
     ]
    }
   ],
   "source": [
    "first_employee = int(input())\n",
    "second_employee = int(input())\n",
    "third_employee = int(input())\n",
    "total_people = int(input())\n",
    "\n",
    "people_per_hour = first_employee + second_employee + third_employee\n",
    "time_needed = 0\n",
    "\n",
    "while total_people > 0:\n",
    "    time_needed += 1\n",
    "    if time_needed % 4 == 0 and time_needed != 0:\n",
    "        continue\n",
    "    total_people -= people_per_hour\n",
    "\n",
    "print(f\"Time needed: {time_needed}h.\")"
   ]
  },
  {
   "cell_type": "markdown",
   "metadata": {},
   "source": [
    "## Problem 2. Shopping List"
   ]
  },
  {
   "cell_type": "markdown",
   "metadata": {},
   "source": [
    "It’s the end of the week and it is time for you to go shopping, so you need to create a shopping list first. "
   ]
  },
  {
   "cell_type": "markdown",
   "metadata": {},
   "source": [
    "### Input"
   ]
  },
  {
   "cell_type": "markdown",
   "metadata": {},
   "source": [
    "<br>You will receive an initial list with groceries separated by \"!\".\n",
    "<br>After that you will be receiving 4 types of commands, until you receive \"Go Shopping!\"\n",
    "* Urgent {item} - add the item at the start of the list.  If the item already exists, skip this command.\n",
    "* Unnecessary {item} - remove the item with the given name, only if it exists in the list. Otherwise skip this command.\n",
    "* Correct {oldItem} {newItem} – if the item with the given old name exists, change its name with the new one. If it doesn't exist, skip this command.\n",
    "* Rearrange {item} - if the grocery exists in the list, remove it from its current position and add it at the end of the list."
   ]
  },
  {
   "cell_type": "markdown",
   "metadata": {},
   "source": [
    "### Constraints"
   ]
  },
  {
   "cell_type": "markdown",
   "metadata": {},
   "source": [
    "There won`t be any duplicate items in the initial list"
   ]
  },
  {
   "cell_type": "markdown",
   "metadata": {},
   "source": [
    "### Output"
   ]
  },
  {
   "cell_type": "markdown",
   "metadata": {},
   "source": [
    "Print the list with all the groceries, joined by \", \".\n",
    "* \"{firstGrocery}, {secondGrocery}, …{nthGrocery}\""
   ]
  },
  {
   "cell_type": "code",
   "execution_count": 2,
   "metadata": {},
   "outputs": [
    {
     "name": "stdout",
     "output_type": "stream",
     "text": [
      "Milk!Pepper!Salt!Water!Banana\n",
      "Urgent Salt\n",
      "Unnecessary Grapes \n",
      "Correct Pepper Onion\n",
      "Rearrange Grapes\n",
      "Correct Tomatoes Potatoes\n",
      "Go Shopping!\n",
      "Milk, Onion, Salt, Water, Banana\n"
     ]
    }
   ],
   "source": [
    "groceries = input().split(\"!\")\n",
    "\n",
    "while True:\n",
    "    command = input().split()\n",
    "\n",
    "    item = command[1]\n",
    "    action = command[0]\n",
    "\n",
    "    if action == \"Go\" and item == \"Shopping!\":\n",
    "        break\n",
    "\n",
    "    elif action == \"Urgent\":\n",
    "        if item not in groceries:\n",
    "            groceries.insert(0, item)\n",
    "\n",
    "    elif action == \"Unnecessary\":\n",
    "        if item in groceries:\n",
    "            groceries.remove(item)\n",
    "\n",
    "    elif action == \"Correct\":\n",
    "        if item in groceries:\n",
    "            index = groceries.index(item)\n",
    "            groceries[index] = command[2]\n",
    "\n",
    "    elif action == \"Rearrange\":\n",
    "        if item in groceries:\n",
    "            groceries.remove(item)\n",
    "            groceries.append(item)\n",
    "\n",
    "print(\", \".join(groceries))"
   ]
  },
  {
   "cell_type": "markdown",
   "metadata": {},
   "source": [
    "## Problem 3. Heart Delivery"
   ]
  },
  {
   "cell_type": "markdown",
   "metadata": {},
   "source": [
    "Valentine’s Day is coming, and Cupid has very limited time to spread some love across the neighborhood. Help him with his mission!"
   ]
  },
  {
   "cell_type": "markdown",
   "metadata": {},
   "source": [
    "You will receive a string with even integers, separated by a \"@\". This is our neighborhood. After that a series of Jump commands will follow, until you receive \"Love!\" Every house in the neighborhood needs a certain number of hearts delivered by Cupid, in order to be able to celebrate Valentine’s Day. Those needed hearts are indicated by the integers in the neighborhood.\n",
    "<br>\n",
    "<br>Cupid starts at the position of the first house (index 0) and must jump by a given length. The jump commands will be in this format: \"Jump {length}\". \n",
    "<br>\n",
    "<br>Every time he jumps from one house to another, the needed hearts for the visited house are decreased by 2. If the needed hearts for a certain house become equal to 0 , print on the console \"Place {houseIndex} has Valentine's day.\" If Cupid jumps to a house where the needed hearts are already 0, print on the console \"Place {houseIndex} already had Valentine's day.\".\n",
    "<br>\n",
    "<br>Keep in mind that Cupid can have a bigger jump length than the size of the neighborhood and if he does jump outside of it, he should start from the first house again. \n",
    "<br>\n",
    "<br>\n",
    "*For example, we are given this neighborhood: 6@6@6. Cupid is at the start and jumps with a length of 2. He will end up at index 2 and decrease the needed hearts there by 2: [6, 6, 4]. Next he jumps again with a length of 2 and goes outside the neighborhood, so he goes back to the first house (index 0) and again decreases the needed hearts there: [4, 6, 4]."
   ]
  },
  {
   "cell_type": "markdown",
   "metadata": {},
   "source": [
    "### Input"
   ]
  },
  {
   "cell_type": "markdown",
   "metadata": {},
   "source": [
    "* On the first line you will receive a string with even integers separated by \"@\" – the neighborhood and the number of hearts for each house.\n",
    "* On the next lines, until \"Love!\" is received, you will be getting jump commands in this format: \"Jump {length}\"."
   ]
  },
  {
   "cell_type": "markdown",
   "metadata": {},
   "source": [
    "### Output"
   ]
  },
  {
   "cell_type": "markdown",
   "metadata": {},
   "source": [
    "At the end print Cupid's last position and whether his mission was successful or not:\n",
    "* \"Cupid's last position was {lastPositionIndex}.\"\n",
    "* If each house has had a Valentine's day, print: \n",
    "    * \"Mission was successful.\"\n",
    "* If not, print the count of all houses that didn`t celebrate a Valentine's Day:\n",
    "    * \"Cupid has failed {houseCount} places.\""
   ]
  },
  {
   "cell_type": "markdown",
   "metadata": {},
   "source": [
    "### Constraints"
   ]
  },
  {
   "cell_type": "markdown",
   "metadata": {},
   "source": [
    "* The neighborhood`s size will be in the range [1…20]\n",
    "* Each house will need an even number of hearts in the range [2 … 10]\n",
    "* Each jump length will be an integer in the range [1 … 20]"
   ]
  },
  {
   "cell_type": "code",
   "execution_count": 3,
   "metadata": {},
   "outputs": [
    {
     "name": "stdout",
     "output_type": "stream",
     "text": [
      "2@4@2\n",
      "Jump 2\n",
      "Place 2 has Valentine's day.\n",
      "Jump 2\n",
      "Place 0 has Valentine's day.\n",
      "Jump 8\n",
      "Place 0 already had Valentine's day.\n",
      "Jump 3\n",
      "Place 0 already had Valentine's day.\n",
      "Jump 1\n",
      "Love!\n",
      "Cupid's last position was 1.\n",
      "Cupid has failed 1 places.\n"
     ]
    }
   ],
   "source": [
    "neighborhood = list(map(int, (input().split(\"@\"))))\n",
    "\n",
    "index = 0\n",
    "\n",
    "while True:\n",
    "    command = input().split()\n",
    "    action = command[0]\n",
    "\n",
    "    if action == \"Love!\":\n",
    "        break\n",
    "    length = int(command[1])\n",
    "\n",
    "    if action == \"Jump\":\n",
    "        index += length\n",
    "        if index not in range(len(neighborhood)):\n",
    "            index = 0\n",
    "        if neighborhood[index] > 0:\n",
    "            neighborhood[index] -= 2\n",
    "            if neighborhood[index] == 0:\n",
    "                print(f\"Place {index} has Valentine's day.\")\n",
    "        else:\n",
    "            print(f\"Place {index} already had Valentine's day.\")\n",
    "\n",
    "print(f\"Cupid's last position was {index}.\")\n",
    "\n",
    "neighborhood = [house for house in neighborhood if house != 0]\n",
    "\n",
    "if len(neighborhood) == 0:\n",
    "    print(\"Mission was successful.\")\n",
    "else:\n",
    "    print(f\"Cupid has failed {len(neighborhood)} places.\")"
   ]
  }
 ],
 "metadata": {
  "kernelspec": {
   "display_name": "Python 3",
   "language": "python",
   "name": "python3"
  },
  "language_info": {
   "codemirror_mode": {
    "name": "ipython",
    "version": 3
   },
   "file_extension": ".py",
   "mimetype": "text/x-python",
   "name": "python",
   "nbconvert_exporter": "python",
   "pygments_lexer": "ipython3",
   "version": "3.8.3"
  }
 },
 "nbformat": 4,
 "nbformat_minor": 4
}
