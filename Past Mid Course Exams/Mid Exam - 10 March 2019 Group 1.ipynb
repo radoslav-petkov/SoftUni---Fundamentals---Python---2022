{
 "cells": [
  {
   "cell_type": "markdown",
   "metadata": {},
   "source": [
    "# Mid Exam - 10 March 2019 Group 1"
   ]
  },
  {
   "cell_type": "markdown",
   "metadata": {},
   "source": [
    "## 01. Spring Vacation Trip"
   ]
  },
  {
   "cell_type": "markdown",
   "metadata": {},
   "source": [
    "Create a program that calculates travelling expenses by entering the following information:\n",
    "-\tDays of the vacation\n",
    "-\tBudget - its for the whole group\n",
    "-\tThe count of people\n",
    "-\tFuel per kilometer – the price for fuel that their car consumes per kilometer\n",
    "-\tFood expenses per person\n",
    "-\tHotel room price for one night – again, for one person"
   ]
  },
  {
   "cell_type": "markdown",
   "metadata": {},
   "source": [
    "If the group is bigger than 10, they receive a 25% discount from the total hotel expenses.<br>\n",
    "Every day, they travel some distance and you have to calculate the expenses for the travelled kilometers. <br>\n",
    "Every third and fifth day, they have some additional expenses, which are 40% of the current value of the expenses. <br>\n",
    "Every seventh day, their expenses are reduced, because they withdraw (receive) a small amount of money – you can calculate it by dividing the amount of the current expenses by the group of people.<br>\n",
    "If the expenses exceed the budget at some point, stop calculating and print the following message:<br>\n",
    "<b>\"Not enough money to continue the trip\"</b><br>\n",
    "If the budget is enough:<br>\n",
    "<b>\"You have reached the destination. You have {money}$ budget left.\"</b><br>\n",
    "Print the result formatted 2 digits after the decimal separator.<br>"
   ]
  },
  {
   "cell_type": "markdown",
   "metadata": {},
   "source": [
    "### Input / Constraints"
   ]
  },
  {
   "cell_type": "markdown",
   "metadata": {},
   "source": [
    "* On the 1st line, you are going to receive the days of the trip – an integer in the range [1…100]\n",
    "* On the 2nd line – the budget – a real number in the range [0.00 – 1000000.00]\n",
    "* On the 3rd line - the group of people – an integer in the rang [1 - 50]\n",
    "* On the 4th line – the price for fuel per kilometer – a real number [0.00 – 20.00]\n",
    "* On the 5th line – food expenses per person for a day – a real number [0.00 – 50.00]\n",
    "* On the 6th line – the price for a room for one night per person – a real number [0.00 – 1000.00]\n",
    "* On the next n lines – one for each of the days – the travelled distance in kilometers per day– a real number in the range [0.00 - 1000]"
   ]
  },
  {
   "cell_type": "markdown",
   "metadata": {},
   "source": [
    "### Output"
   ]
  },
  {
   "cell_type": "markdown",
   "metadata": {},
   "source": [
    "<b>\"Not enough money to continue the trip. You need {money}S more.\"</b> if the budget is not enough<br>\n",
    "<b>\"You have reached the destination. You have {money}S budget left.\"</b>  if it’s enough.<br>\n",
    "Print the result formatted 2 digits after the decimal separator."
   ]
  },
  {
   "cell_type": "code",
   "execution_count": 4,
   "metadata": {
    "scrolled": true
   },
   "outputs": [
    {
     "name": "stdout",
     "output_type": "stream",
     "text": [
      "7\n",
      "12000\n",
      "5\n",
      "1.5\n",
      "10\n",
      "20\n",
      "512\n",
      "318\n",
      "202\n",
      "154\n",
      "222\n",
      "108\n",
      "123\n",
      "You have reached the destination. You have 5083.48$ budget left.\n"
     ]
    }
   ],
   "source": [
    "days_trip = int(input())\n",
    "budget = float(input())\n",
    "group = int(input())\n",
    "fuel_price_km = float(input())\n",
    "food_expenses_person_day = float(input())\n",
    "hotel_person_night = float(input())\n",
    "\n",
    "hotel = group * hotel_person_night * days_trip\n",
    "if group > 10:\n",
    "    hotel *= 0.75\n",
    "\n",
    "food = group * food_expenses_person_day * days_trip\n",
    "total = hotel + food\n",
    "\n",
    "continue_the_trip = True\n",
    "\n",
    "for day in range(1, days_trip + 1):\n",
    "    travel_distance = float(input())\n",
    "    fuel = travel_distance * fuel_price_km\n",
    "    total += fuel\n",
    "    if total > budget:\n",
    "        continue_the_trip = False\n",
    "        break\n",
    "    if day % 3 == 0 or day % 5 == 0:\n",
    "        total *= 1.4\n",
    "        if total > budget:\n",
    "            continue_the_trip = False\n",
    "            break\n",
    "    if day % 7 == 0:\n",
    "        total -= total / group\n",
    "\n",
    "difference = abs(budget-total)\n",
    "\n",
    "if continue_the_trip:\n",
    "    print(f\"You have reached the destination. You have {difference:.2f}$ budget left.\")\n",
    "else:\n",
    "    print(f\"Not enough money to continue the trip. You need {difference:.2f}$ more.\")"
   ]
  },
  {
   "cell_type": "markdown",
   "metadata": {},
   "source": [
    "## 02. Hello, France"
   ]
  },
  {
   "cell_type": "markdown",
   "metadata": {},
   "source": [
    "The budget was enough to get Ali and her friends to Frankfurt and they have some money left, but their final aim is to go to France, which means that they will need more finances. They’ve decided to make profit by buying items on discount from the Thrift Shop and selling them for a higher price. You must help them.\n",
    "- Create a program that calculates the profit after buying some items and selling them on a higher price. In order to fulfil that, you are going to need certain data - you will receive a collection of items and a budget in the following format:\n",
    "- {type->price|type->price|type->price……|type->price}\n",
    "- {budget}\n",
    "- The prices for each of the types cannot exceed a certain price, which is given bellow:"
   ]
  },
  {
   "cell_type": "markdown",
   "metadata": {},
   "source": [
    "Type - Maximum Price\n",
    "- Clothes 50.00\n",
    "- Shoes\t35.00\n",
    "- Accessories\t20.50"
   ]
  },
  {
   "cell_type": "markdown",
   "metadata": {},
   "source": [
    "- If a price for a certain item is higher than the maximum price, don’t buy it. Every time you buy an item, you have to reduce the budget with the value of its price. If you don’t have enough money for it, you can’t buy it. Buy as much items as you can.\n",
    "- You have to increase the price of each of the items you have successfully bought with 40%. Print the list with the new prices and the profit you will gain from selling the items. They need exactly 150$ for tickets for the train, so if their budget after selling the products is enough – print – \"Hello, France!\" and if not – \"Time to go.\""
   ]
  },
  {
   "cell_type": "markdown",
   "metadata": {},
   "source": [
    "### Input / Constraints"
   ]
  },
  {
   "cell_type": "markdown",
   "metadata": {},
   "source": [
    "- On the 1st line you are going to receive the items with their prices in the format described above – real numbers in the range [0.00……1000.00]\n",
    "- On the 2nd line, you are going to be given the budget – a real number in the range [0.0….1000.0]b"
   ]
  },
  {
   "cell_type": "markdown",
   "metadata": {},
   "source": [
    "### Output"
   ]
  },
  {
   "cell_type": "markdown",
   "metadata": {},
   "source": [
    "- Print the list with the bought item’s new prices, rounded 2 digits after the decimal separator in the following format:<br>\n",
    "\"{price1} {price2} {price3} {price5}………{priceN}\"\n",
    "- Print the profit, rounded 2 digits after the decimal separator in the following format:<br>\n",
    "\"Profit: {profit}\"\n",
    "- If the money for tickets are enough, print: \"Hello, France!\" and if not – \"Time to go.\""
   ]
  },
  {
   "cell_type": "code",
   "execution_count": 5,
   "metadata": {},
   "outputs": [
    {
     "name": "stdout",
     "output_type": "stream",
     "text": [
      "Clothes->43.30|Shoes->25.25|Clothes->36.52|Clothes->20.90|Accessories->15.60\n",
      "120\n",
      "60.62 35.35 51.13\n",
      "Profit: 42.03\n",
      "Hello, France!\n"
     ]
    }
   ],
   "source": [
    "items_and_prices = input().split(\"|\")\n",
    "budget = float(input())\n",
    "\n",
    "new_items_and_prices_list = []\n",
    "increase_price = 0\n",
    "increase_price_list = []\n",
    "profit = 0\n",
    "sum_increase_price = 0\n",
    "\n",
    "for i in items_and_prices:\n",
    "    item_type, price = i.split(\"->\")\n",
    "    price = float(price)\n",
    "\n",
    "    is_valid = (item_type == \"Clothes\" and price <= 50) or (item_type == \"Shoes\" and price <= 35) or (\n",
    "            item_type == \"Accessories\" and price <= 20.5)\n",
    "\n",
    "    if is_valid and budget >= price:\n",
    "        budget -= price\n",
    "        increase_price = price * 1.4\n",
    "        sum_increase_price += increase_price\n",
    "        increase_price_list.append(f\"{increase_price:.2f}\")\n",
    "        profit += ((price * 1.4) - price)\n",
    "\n",
    "items_and_prices_print = \" \".join(increase_price_list)\n",
    "\n",
    "print(items_and_prices_print)\n",
    "print(f\"Profit: {profit:.2f}\")\n",
    "\n",
    "if (budget + sum_increase_price) >= 150:\n",
    "    print(\"Hello, France!\")\n",
    "else:\n",
    "    print(\"Time to go.\")"
   ]
  },
  {
   "cell_type": "markdown",
   "metadata": {},
   "source": [
    "## 03. Last Stop"
   ]
  },
  {
   "cell_type": "markdown",
   "metadata": {},
   "source": [
    "<i>The group has reached Paris and went to visit \"La Louvre\". They accidently found a map behind \"The Wedding at Canna\" painting. It had some instructions, so they have decided to follow them and see where they will lead them. Your job is to help them.</i>\n",
    "<br>\n",
    "<br>\n",
    "Create a program that follows instructions in order to fulfil a quest. First, you will receive a collection of numbers – each representing a painting number. After that, you are going to be receiving instructions, until the \"END\" command is given.\n",
    "-\tChange {paintingNumber} {changedNumber} – find the painting with the first number in the collection (if it exists) and change its number with the second number – {changedNumber}.\n",
    "-\tHide {paintingNumber} – find the painting with this value and if it exists and hide it (remove it).\n",
    "-\tSwitch {paintingNumber} {paintingNumber2} – find the given paintings in the collections if they exist and switch their places.\n",
    "-\tInsert {place} {paintingNumber} – insert the painting (paintingNumber) on the next place after the given one, if it exists.\n",
    "-\tReverse – you must reverse the order of the paintings.\n",
    "<br>\n",
    "<br>\n",
    "Once you complete the instructions, print the numbers of the paintings on a single line, split by a space."
   ]
  },
  {
   "cell_type": "markdown",
   "metadata": {},
   "source": [
    "### Input / Constraints"
   ]
  },
  {
   "cell_type": "markdown",
   "metadata": {},
   "source": [
    "* On the 1st line, you are going to receive the numbers of the paintings, split by a single space – integer numbers in the range [1…1000]\n",
    "* On the next lines, you are going to receive commands, until you receive the \"END\" command"
   ]
  },
  {
   "cell_type": "markdown",
   "metadata": {},
   "source": [
    "### Output"
   ]
  },
  {
   "cell_type": "markdown",
   "metadata": {},
   "source": [
    "* Print the message you have received after the conversion of all numbers on a single line"
   ]
  },
  {
   "cell_type": "code",
   "execution_count": 6,
   "metadata": {},
   "outputs": [
    {
     "name": "stdout",
     "output_type": "stream",
     "text": [
      "115 115 101 114 73 111 116 75\n",
      "Insert 5 114\n",
      "Switch 116 73\n",
      "Hide 75\n",
      "Reverse \n",
      "Change 73 70\n",
      "Insert 10 85\n",
      "END\n",
      "70 114 111 116 114 101 115 115\n"
     ]
    }
   ],
   "source": [
    "paintings = input().split()\n",
    "\n",
    "while True:\n",
    "    instruction = input().split()\n",
    "    if instruction[0] == \"END\":\n",
    "        break\n",
    "    elif instruction[0] == \"Change\":\n",
    "        if instruction[1] in paintings:\n",
    "            index_of_first = paintings.index(instruction[1])\n",
    "            paintings[index_of_first] = instruction[2]\n",
    "    elif instruction[0] == \"Hide\":\n",
    "        if instruction[1] in paintings:\n",
    "            paintings = [painting for painting in paintings if painting != instruction[1]]\n",
    "    elif instruction[0] == \"Switch\":\n",
    "        if instruction[1] in paintings and instruction[2] in paintings:\n",
    "            first_index = paintings.index(instruction[1])\n",
    "            second_index = paintings.index(instruction[2])\n",
    "            paintings[first_index], paintings[second_index] = paintings[second_index], paintings[first_index]\n",
    "    elif instruction[0] == \"Insert\":\n",
    "        if int(instruction[1]) + 1 < len(paintings):\n",
    "            paintings.insert(int(instruction[1]) + 1, instruction[2])\n",
    "    elif instruction[0] == \"Reverse\":\n",
    "        paintings.reverse()\n",
    "\n",
    "print(\" \".join(paintings))"
   ]
  }
 ],
 "metadata": {
  "kernelspec": {
   "display_name": "Python 3",
   "language": "python",
   "name": "python3"
  },
  "language_info": {
   "codemirror_mode": {
    "name": "ipython",
    "version": 3
   },
   "file_extension": ".py",
   "mimetype": "text/x-python",
   "name": "python",
   "nbconvert_exporter": "python",
   "pygments_lexer": "ipython3",
   "version": "3.8.3"
  }
 },
 "nbformat": 4,
 "nbformat_minor": 4
}
