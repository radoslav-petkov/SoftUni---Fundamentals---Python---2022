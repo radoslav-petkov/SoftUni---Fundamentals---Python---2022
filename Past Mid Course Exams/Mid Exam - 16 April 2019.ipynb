{
 "cells": [
  {
   "cell_type": "markdown",
   "metadata": {},
   "source": [
    "# Mid Exam - 16 April 2019"
   ]
  },
  {
   "cell_type": "markdown",
   "metadata": {},
   "source": [
    "## Problem 1. Easter Cozonacs"
   ]
  },
  {
   "cell_type": "markdown",
   "metadata": {},
   "source": [
    "Since it’s Easter you have decided to make some cozonacs and exchange them for eggs.\n",
    "Create a program that calculates how much cozonacs you can make with the budget you have. First, you will receive your budget. Then, you will receive the price for 1 kg flour. Here is the recipe for one cozonac:\n",
    "- Eggs:\t1 pack\n",
    "- Flour:\t1 kg\n",
    "- Milk:\t0.250 l"
   ]
  },
  {
   "cell_type": "markdown",
   "metadata": {},
   "source": [
    "The price for 1 pack of eggs is 75% of the price for 1 kg flour. The price for 1l milk is 25% more than price for 1 kg flour. Notice, that you need 0.250l milk for one cozonac and the calculated price is for 1l.\n",
    "Start cooking the cozonacs and keep making them until you have enough budget. Keep in mind that:\n",
    "- For every cozonac that you make, you will receive 3 colored eggs. \n",
    "- For every 3rd cozonac that you make, you will lose some of your colored eggs after you have received the usual 3 colored eggs for your cozonac. The count of eggs you will lose is calculated when you subtract 2 from your current count of cozonacs – ({currentCozonacsCount} – 2)\n",
    "<br>\n",
    "<br>In the end, print the cozonacs you made, the eggs you have gathered and the money you have left, formatted to the 2nd decimal place, in the following format:\n",
    "\"You made {countOfCozonacs} cozonacs! Now you have {coloredEggs} eggs and {moneyLeft}BGN left.\""
   ]
  },
  {
   "cell_type": "markdown",
   "metadata": {},
   "source": [
    "### Input / Constraints"
   ]
  },
  {
   "cell_type": "markdown",
   "metadata": {},
   "source": [
    "- On the 1st line you will receive the budget – a real number in the range [0.0…100000.0]\n",
    "- On the 2nd line you will receive the price for 1 kg flour – a real number in the range [0.0…100000.0]\n",
    "- The input will always be in the right format.\n",
    "- You will always have a remaining budget.\n",
    "- There will not be a case in which the eggs become a negative count."
   ]
  },
  {
   "cell_type": "markdown",
   "metadata": {},
   "source": [
    "### Output"
   ]
  },
  {
   "cell_type": "markdown",
   "metadata": {},
   "source": [
    "- In the end print the count of cozonacs you have made, the colored eggs you have gathered and the money formatted to the 2nd decimal place in the format described above."
   ]
  },
  {
   "cell_type": "code",
   "execution_count": 1,
   "metadata": {},
   "outputs": [
    {
     "name": "stdout",
     "output_type": "stream",
     "text": [
      "20.5\n",
      "1.25\n",
      "You made 7 cozonacs! Now you have 16 eggs and 2.45BGN left.\n"
     ]
    }
   ],
   "source": [
    "budget = float(input())\n",
    "flour_price = float(input())\n",
    "\n",
    "egg_price = flour_price * 0.75\n",
    "milk_price = flour_price * 1.25 * 0.25\n",
    "cozonac_price = flour_price + egg_price + milk_price\n",
    "cozonacs = 0\n",
    "colored_eggs = 0\n",
    "\n",
    "while budget >= cozonac_price:\n",
    "    cozonacs += 1\n",
    "    colored_eggs += 3\n",
    "\n",
    "    if cozonacs % 3 == 0:\n",
    "        colored_eggs -= (cozonacs - 2)\n",
    "    budget -= cozonac_price\n",
    "\n",
    "print(f\"You made {cozonacs} cozonacs! Now you have {colored_eggs} eggs and {budget:.2f}BGN left.\")"
   ]
  },
  {
   "cell_type": "markdown",
   "metadata": {},
   "source": [
    "# Problem 2. Easter Gifts"
   ]
  },
  {
   "cell_type": "markdown",
   "metadata": {},
   "source": [
    "As a good friend, you decide to buy presents for your friends.\n",
    "- Create a program that helps you plan the gifts for your friends and family. First, you are going to receive the gifts you plan on buying on a single line, separated by space, in the following format:\n",
    "- \"{gift1} {gift2} {gift3}… {giftn}\"\n",
    "- Then you will start receiving commands until you read the \"No Money\" message. There are three possible commands:\n",
    "- \"OutOfStock {gift}\"\n",
    "- Find the gifts with this name in your collection, if there are any, and change their values to \"None\".  \n",
    "- \"Required {gift} {index}\"\n",
    "- Replace the value of the current gift on the given index with this gift, if the index is valid. \n",
    "- \"JustInCase {gift}\"\n",
    "- Replace the value of your last gift with this one. \n",
    "- In the end, print the gifts on a single line, except the ones with value \"None\", separated by a single space in the following format:\n",
    "- \"{gift1} {gift2} {gift3}… {giftn}\""
   ]
  },
  {
   "cell_type": "markdown",
   "metadata": {},
   "source": [
    "### Input / Constraints"
   ]
  },
  {
   "cell_type": "markdown",
   "metadata": {},
   "source": [
    "- On the 1st line you are going to receive the names of the gifts, separated by a single space.\n",
    "- On the next lines, until the \"No Money\" command is received, you will be receiving commands.\n",
    "- The input will always be valid."
   ]
  },
  {
   "cell_type": "markdown",
   "metadata": {},
   "source": [
    "### Output"
   ]
  },
  {
   "cell_type": "markdown",
   "metadata": {},
   "source": [
    "- Print the gifts in the format described above."
   ]
  },
  {
   "cell_type": "code",
   "execution_count": 2,
   "metadata": {},
   "outputs": [
    {
     "name": "stdout",
     "output_type": "stream",
     "text": [
      "Eggs StuffedAnimal Cozonac Sweets EasterBunny Eggs Clothes\n",
      "OutOfStock Eggs\n",
      "Required Spoon 2\n",
      "JustInCase ChocolateEgg\n",
      "No Money\n",
      "StuffedAnimal Spoon Sweets EasterBunny ChocolateEgg\n"
     ]
    }
   ],
   "source": [
    "name_of_gifts = input().split()\n",
    "\n",
    "while True:\n",
    "    command = input().split()\n",
    "    if \" \".join(command) == \"No Money\":\n",
    "        break\n",
    "\n",
    "    elif command[0] == \"OutOfStock\":\n",
    "        if command[1] in name_of_gifts:\n",
    "            for i in range(len(name_of_gifts)):\n",
    "                if name_of_gifts[i] == command[1]:\n",
    "                    name_of_gifts[i] = None\n",
    "\n",
    "    elif command[0] == \"Required\":\n",
    "        if 0 <= int(command[2]) < len(name_of_gifts):\n",
    "            name_of_gifts[int(command[2])] = command[1]\n",
    "\n",
    "    elif command[0] == \"JustInCase\":\n",
    "        name_of_gifts[-1] = command[1]\n",
    "\n",
    "name_of_gifts = [gift for gift in name_of_gifts if gift != None]\n",
    "\n",
    "print(\" \".join(name_of_gifts))"
   ]
  },
  {
   "cell_type": "markdown",
   "metadata": {},
   "source": [
    "# Problem 3. Easter Shopping"
   ]
  },
  {
   "cell_type": "markdown",
   "metadata": {},
   "source": [
    "You have decided to go on an Easter shopping spree to take advantage of the promotions.\n",
    "<br>\n",
    "<br>\n",
    "Create a program that helps you keep track of the shops that you want to visit. You will receive the list of shops you have planned on checking out on a single line, separated by a single space in the following format:<br>\n",
    "\"{shop1} {shop2} {shop3}… {shopn}\"\n",
    "<br>\n",
    "<br>\n",
    "Then you will receive a number – n - a count of commands you need to execute over your list. There are four possible commands:\n",
    "* \"Include {shop}\":\n",
    "    - Add the shop at the end of your list.\n",
    "* \"Visit {first/last} {numberOfShops}\"\n",
    "    - Remove either the \"first\" or the \"last\" number of shops from your list, depending on the input. If you have less shops on your list than the given number, skip this command.\n",
    "* \"Prefer {shopIndex1} {shopIndex2}\":\n",
    "    - If both of the shop indexes exist in your list, take the shops that are on them and change their places. \n",
    "* \"Place {shop} {shopIndex}\"\n",
    "    - Insert the shop after the given index, only if the resulted index exists.\n",
    "<br>\n",
    "In the end print the manipulated list in the following format:\n",
    "<br>\n",
    "\"Shops left:\n",
    "<br>\n",
    "{shop1} {shop2}… {shopn}\""
   ]
  },
  {
   "cell_type": "markdown",
   "metadata": {},
   "source": [
    "### Input / Constraints"
   ]
  },
  {
   "cell_type": "markdown",
   "metadata": {},
   "source": [
    "* On the 1st line, you will receive the starting list with the names of the shops separated by a single space.\n",
    "* On the 2nd line, you will receive the number of commands - n – an integer in range [1…100]\n",
    "* On the next n lines you will be receiving commands in the format described above. "
   ]
  },
  {
   "cell_type": "markdown",
   "metadata": {},
   "source": [
    "### Output"
   ]
  },
  {
   "cell_type": "markdown",
   "metadata": {},
   "source": [
    "* Print the list after the manipulations in the format described above."
   ]
  },
  {
   "cell_type": "code",
   "execution_count": 3,
   "metadata": {},
   "outputs": [
    {
     "name": "stdout",
     "output_type": "stream",
     "text": [
      "Bershka CandyStore ThriftShop Armani Groceries ToyStore PeakStore\n",
      "5\n",
      "Include HM\n",
      "Visit first 2\n",
      "Visit first 1\n",
      "Prefer 3 1\n",
      "Place Library 2\n",
      "Shops left:\n",
      "Armani PeakStore ToyStore Library Groceries HM\n"
     ]
    }
   ],
   "source": [
    "shops = input().split()\n",
    "commands = int(input())\n",
    "\n",
    "for i in range(commands):\n",
    "    length = len(shops)\n",
    "    command = input().split()\n",
    "\n",
    "    if command[0] == \"Include\":\n",
    "        shops.append(command[1])\n",
    "\n",
    "    elif command[0] == \"Visit\":\n",
    "        index = int(command[2])\n",
    "        if index <= length:\n",
    "            if command[1] == \"first\":\n",
    "                shops = shops[index:]\n",
    "            elif command[1] == \"last\":\n",
    "                shops = shops[:(length - index)]\n",
    "\n",
    "    elif command[0] == \"Prefer\":\n",
    "        index_one = int(command[1])\n",
    "        index_two = int(command[2])\n",
    "        if (0 <= index_one < length) and (0 <= index_two < length):\n",
    "            shops[index_one], shops[index_two] = shops[index_two], shops[index_one]\n",
    "\n",
    "    elif command[0] == \"Place\":\n",
    "        index = int(command[2])\n",
    "        if 0 <= index < length:\n",
    "            shops.insert(index + 1, command[1])\n",
    "\n",
    "print(\"Shops left:\")\n",
    "print(\" \".join(shops))"
   ]
  }
 ],
 "metadata": {
  "kernelspec": {
   "display_name": "Python 3",
   "language": "python",
   "name": "python3"
  },
  "language_info": {
   "codemirror_mode": {
    "name": "ipython",
    "version": 3
   },
   "file_extension": ".py",
   "mimetype": "text/x-python",
   "name": "python",
   "nbconvert_exporter": "python",
   "pygments_lexer": "ipython3",
   "version": "3.8.3"
  }
 },
 "nbformat": 4,
 "nbformat_minor": 4
}
